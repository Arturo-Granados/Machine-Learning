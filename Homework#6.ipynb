{
  "cells": [
    {
      "cell_type": "markdown",
      "metadata": {
        "id": "303uRSyuP4EN"
      },
      "source": [
        "#Set up"
      ]
    },
    {
      "cell_type": "code",
      "execution_count": null,
      "metadata": {
        "id": "lceKEDXZOdHE"
      },
      "outputs": [],
      "source": [
        "#Import important libraries\n",
        "import pandas as pd \n",
        "import numpy as np\n",
        "import matplotlib.pyplot as plt \n",
        "import seaborn as sns"
      ]
    },
    {
      "cell_type": "markdown",
      "metadata": {
        "id": "FyXxSRzzP7Bn"
      },
      "source": [
        "#Get data"
      ]
    },
    {
      "cell_type": "code",
      "execution_count": null,
      "metadata": {
        "id": "_dPcVRW2Oy25"
      },
      "outputs": [],
      "source": [
        "#Download data\n",
        "dataset = pd.read_csv('https://raw.githubusercontent.com/alexeygrigorev/datasets/master/AB_NYC_2019.csv')"
      ]
    },
    {
      "cell_type": "code",
      "execution_count": null,
      "metadata": {
        "colab": {
          "base_uri": "https://localhost:8080/",
          "height": 302
        },
        "id": "oINZbAVIMipl",
        "outputId": "ab2d49f9-9a0d-4919-914a-6eccbc90f119"
      },
      "outputs": [
        {
          "data": {
            "text/html": [
              "\n",
              "  <div id=\"df-b114fa1b-57a4-4f92-8ede-fffcb0afd39c\">\n",
              "    <div class=\"colab-df-container\">\n",
              "      <div>\n",
              "<style scoped>\n",
              "    .dataframe tbody tr th:only-of-type {\n",
              "        vertical-align: middle;\n",
              "    }\n",
              "\n",
              "    .dataframe tbody tr th {\n",
              "        vertical-align: top;\n",
              "    }\n",
              "\n",
              "    .dataframe thead th {\n",
              "        text-align: right;\n",
              "    }\n",
              "</style>\n",
              "<table border=\"1\" class=\"dataframe\">\n",
              "  <thead>\n",
              "    <tr style=\"text-align: right;\">\n",
              "      <th></th>\n",
              "      <th>id</th>\n",
              "      <th>name</th>\n",
              "      <th>host_id</th>\n",
              "      <th>host_name</th>\n",
              "      <th>neighbourhood_group</th>\n",
              "      <th>neighbourhood</th>\n",
              "      <th>latitude</th>\n",
              "      <th>longitude</th>\n",
              "      <th>room_type</th>\n",
              "      <th>price</th>\n",
              "      <th>minimum_nights</th>\n",
              "      <th>number_of_reviews</th>\n",
              "      <th>last_review</th>\n",
              "      <th>reviews_per_month</th>\n",
              "      <th>calculated_host_listings_count</th>\n",
              "      <th>availability_365</th>\n",
              "    </tr>\n",
              "  </thead>\n",
              "  <tbody>\n",
              "    <tr>\n",
              "      <th>0</th>\n",
              "      <td>2539</td>\n",
              "      <td>Clean &amp; quiet apt home by the park</td>\n",
              "      <td>2787</td>\n",
              "      <td>John</td>\n",
              "      <td>Brooklyn</td>\n",
              "      <td>Kensington</td>\n",
              "      <td>40.64749</td>\n",
              "      <td>-73.97237</td>\n",
              "      <td>Private room</td>\n",
              "      <td>149</td>\n",
              "      <td>1</td>\n",
              "      <td>9</td>\n",
              "      <td>2018-10-19</td>\n",
              "      <td>0.21</td>\n",
              "      <td>6</td>\n",
              "      <td>365</td>\n",
              "    </tr>\n",
              "    <tr>\n",
              "      <th>1</th>\n",
              "      <td>2595</td>\n",
              "      <td>Skylit Midtown Castle</td>\n",
              "      <td>2845</td>\n",
              "      <td>Jennifer</td>\n",
              "      <td>Manhattan</td>\n",
              "      <td>Midtown</td>\n",
              "      <td>40.75362</td>\n",
              "      <td>-73.98377</td>\n",
              "      <td>Entire home/apt</td>\n",
              "      <td>225</td>\n",
              "      <td>1</td>\n",
              "      <td>45</td>\n",
              "      <td>2019-05-21</td>\n",
              "      <td>0.38</td>\n",
              "      <td>2</td>\n",
              "      <td>355</td>\n",
              "    </tr>\n",
              "    <tr>\n",
              "      <th>2</th>\n",
              "      <td>3647</td>\n",
              "      <td>THE VILLAGE OF HARLEM....NEW YORK !</td>\n",
              "      <td>4632</td>\n",
              "      <td>Elisabeth</td>\n",
              "      <td>Manhattan</td>\n",
              "      <td>Harlem</td>\n",
              "      <td>40.80902</td>\n",
              "      <td>-73.94190</td>\n",
              "      <td>Private room</td>\n",
              "      <td>150</td>\n",
              "      <td>3</td>\n",
              "      <td>0</td>\n",
              "      <td>NaN</td>\n",
              "      <td>NaN</td>\n",
              "      <td>1</td>\n",
              "      <td>365</td>\n",
              "    </tr>\n",
              "    <tr>\n",
              "      <th>3</th>\n",
              "      <td>3831</td>\n",
              "      <td>Cozy Entire Floor of Brownstone</td>\n",
              "      <td>4869</td>\n",
              "      <td>LisaRoxanne</td>\n",
              "      <td>Brooklyn</td>\n",
              "      <td>Clinton Hill</td>\n",
              "      <td>40.68514</td>\n",
              "      <td>-73.95976</td>\n",
              "      <td>Entire home/apt</td>\n",
              "      <td>89</td>\n",
              "      <td>1</td>\n",
              "      <td>270</td>\n",
              "      <td>2019-07-05</td>\n",
              "      <td>4.64</td>\n",
              "      <td>1</td>\n",
              "      <td>194</td>\n",
              "    </tr>\n",
              "    <tr>\n",
              "      <th>4</th>\n",
              "      <td>5022</td>\n",
              "      <td>Entire Apt: Spacious Studio/Loft by central park</td>\n",
              "      <td>7192</td>\n",
              "      <td>Laura</td>\n",
              "      <td>Manhattan</td>\n",
              "      <td>East Harlem</td>\n",
              "      <td>40.79851</td>\n",
              "      <td>-73.94399</td>\n",
              "      <td>Entire home/apt</td>\n",
              "      <td>80</td>\n",
              "      <td>10</td>\n",
              "      <td>9</td>\n",
              "      <td>2018-11-19</td>\n",
              "      <td>0.10</td>\n",
              "      <td>1</td>\n",
              "      <td>0</td>\n",
              "    </tr>\n",
              "  </tbody>\n",
              "</table>\n",
              "</div>\n",
              "      <button class=\"colab-df-convert\" onclick=\"convertToInteractive('df-b114fa1b-57a4-4f92-8ede-fffcb0afd39c')\"\n",
              "              title=\"Convert this dataframe to an interactive table.\"\n",
              "              style=\"display:none;\">\n",
              "        \n",
              "  <svg xmlns=\"http://www.w3.org/2000/svg\" height=\"24px\"viewBox=\"0 0 24 24\"\n",
              "       width=\"24px\">\n",
              "    <path d=\"M0 0h24v24H0V0z\" fill=\"none\"/>\n",
              "    <path d=\"M18.56 5.44l.94 2.06.94-2.06 2.06-.94-2.06-.94-.94-2.06-.94 2.06-2.06.94zm-11 1L8.5 8.5l.94-2.06 2.06-.94-2.06-.94L8.5 2.5l-.94 2.06-2.06.94zm10 10l.94 2.06.94-2.06 2.06-.94-2.06-.94-.94-2.06-.94 2.06-2.06.94z\"/><path d=\"M17.41 7.96l-1.37-1.37c-.4-.4-.92-.59-1.43-.59-.52 0-1.04.2-1.43.59L10.3 9.45l-7.72 7.72c-.78.78-.78 2.05 0 2.83L4 21.41c.39.39.9.59 1.41.59.51 0 1.02-.2 1.41-.59l7.78-7.78 2.81-2.81c.8-.78.8-2.07 0-2.86zM5.41 20L4 18.59l7.72-7.72 1.47 1.35L5.41 20z\"/>\n",
              "  </svg>\n",
              "      </button>\n",
              "      \n",
              "  <style>\n",
              "    .colab-df-container {\n",
              "      display:flex;\n",
              "      flex-wrap:wrap;\n",
              "      gap: 12px;\n",
              "    }\n",
              "\n",
              "    .colab-df-convert {\n",
              "      background-color: #E8F0FE;\n",
              "      border: none;\n",
              "      border-radius: 50%;\n",
              "      cursor: pointer;\n",
              "      display: none;\n",
              "      fill: #1967D2;\n",
              "      height: 32px;\n",
              "      padding: 0 0 0 0;\n",
              "      width: 32px;\n",
              "    }\n",
              "\n",
              "    .colab-df-convert:hover {\n",
              "      background-color: #E2EBFA;\n",
              "      box-shadow: 0px 1px 2px rgba(60, 64, 67, 0.3), 0px 1px 3px 1px rgba(60, 64, 67, 0.15);\n",
              "      fill: #174EA6;\n",
              "    }\n",
              "\n",
              "    [theme=dark] .colab-df-convert {\n",
              "      background-color: #3B4455;\n",
              "      fill: #D2E3FC;\n",
              "    }\n",
              "\n",
              "    [theme=dark] .colab-df-convert:hover {\n",
              "      background-color: #434B5C;\n",
              "      box-shadow: 0px 1px 3px 1px rgba(0, 0, 0, 0.15);\n",
              "      filter: drop-shadow(0px 1px 2px rgba(0, 0, 0, 0.3));\n",
              "      fill: #FFFFFF;\n",
              "    }\n",
              "  </style>\n",
              "\n",
              "      <script>\n",
              "        const buttonEl =\n",
              "          document.querySelector('#df-b114fa1b-57a4-4f92-8ede-fffcb0afd39c button.colab-df-convert');\n",
              "        buttonEl.style.display =\n",
              "          google.colab.kernel.accessAllowed ? 'block' : 'none';\n",
              "\n",
              "        async function convertToInteractive(key) {\n",
              "          const element = document.querySelector('#df-b114fa1b-57a4-4f92-8ede-fffcb0afd39c');\n",
              "          const dataTable =\n",
              "            await google.colab.kernel.invokeFunction('convertToInteractive',\n",
              "                                                     [key], {});\n",
              "          if (!dataTable) return;\n",
              "\n",
              "          const docLinkHtml = 'Like what you see? Visit the ' +\n",
              "            '<a target=\"_blank\" href=https://colab.research.google.com/notebooks/data_table.ipynb>data table notebook</a>'\n",
              "            + ' to learn more about interactive tables.';\n",
              "          element.innerHTML = '';\n",
              "          dataTable['output_type'] = 'display_data';\n",
              "          await google.colab.output.renderOutput(dataTable, element);\n",
              "          const docLink = document.createElement('div');\n",
              "          docLink.innerHTML = docLinkHtml;\n",
              "          element.appendChild(docLink);\n",
              "        }\n",
              "      </script>\n",
              "    </div>\n",
              "  </div>\n",
              "  "
            ],
            "text/plain": [
              "     id                                              name  host_id  \\\n",
              "0  2539                Clean & quiet apt home by the park     2787   \n",
              "1  2595                             Skylit Midtown Castle     2845   \n",
              "2  3647               THE VILLAGE OF HARLEM....NEW YORK !     4632   \n",
              "3  3831                   Cozy Entire Floor of Brownstone     4869   \n",
              "4  5022  Entire Apt: Spacious Studio/Loft by central park     7192   \n",
              "\n",
              "     host_name neighbourhood_group neighbourhood  latitude  longitude  \\\n",
              "0         John            Brooklyn    Kensington  40.64749  -73.97237   \n",
              "1     Jennifer           Manhattan       Midtown  40.75362  -73.98377   \n",
              "2    Elisabeth           Manhattan        Harlem  40.80902  -73.94190   \n",
              "3  LisaRoxanne            Brooklyn  Clinton Hill  40.68514  -73.95976   \n",
              "4        Laura           Manhattan   East Harlem  40.79851  -73.94399   \n",
              "\n",
              "         room_type  price  minimum_nights  number_of_reviews last_review  \\\n",
              "0     Private room    149               1                  9  2018-10-19   \n",
              "1  Entire home/apt    225               1                 45  2019-05-21   \n",
              "2     Private room    150               3                  0         NaN   \n",
              "3  Entire home/apt     89               1                270  2019-07-05   \n",
              "4  Entire home/apt     80              10                  9  2018-11-19   \n",
              "\n",
              "   reviews_per_month  calculated_host_listings_count  availability_365  \n",
              "0               0.21                               6               365  \n",
              "1               0.38                               2               355  \n",
              "2                NaN                               1               365  \n",
              "3               4.64                               1               194  \n",
              "4               0.10                               1                 0  "
            ]
          },
          "execution_count": 3,
          "metadata": {},
          "output_type": "execute_result"
        }
      ],
      "source": [
        "#Dataset visualization\n",
        "dataset.head()"
      ]
    },
    {
      "cell_type": "markdown",
      "metadata": {
        "id": "aM29h-HGQPe9"
      },
      "source": [
        "#Loading the data\n",
        "Use only the following columns:\n",
        "> * 'neighbourhood_group',\n",
        "* 'room_type',\n",
        "* 'latitude',\n",
        "* 'longitude',\n",
        "* 'minimum_nights',\n",
        "* 'number_of_reviews',\n",
        "* 'reviews_per_month',\n",
        "* 'calculated_host_listings_count',\n",
        "* 'availability_365',\n",
        "* 'price'\n",
        "\n",
        "* Fill NAs with 0\n",
        "* Apply the log tranform to price\n",
        "* Do train/validation/test split with 60%/20%/20% distribution.\n",
        "* Use the train_test_split function and set the random_state parameter to 1\n",
        "* Use DictVectorizer to turn the dataframe into matrices\n"
      ]
    },
    {
      "cell_type": "code",
      "execution_count": null,
      "metadata": {
        "id": "H2gwAETlNF3M"
      },
      "outputs": [],
      "source": [
        "#Use only the following columns:\n",
        "important_columns = ['neighbourhood_group','room_type','latitude','longitude','minimum_nights','number_of_reviews','reviews_per_month',\n",
        "                     'calculated_host_listings_count','availability_365','price']\n",
        "dataset = dataset[important_columns]"
      ]
    },
    {
      "cell_type": "code",
      "execution_count": null,
      "metadata": {
        "colab": {
          "base_uri": "https://localhost:8080/"
        },
        "id": "OE8-5WVvQ784",
        "outputId": "7608e8bd-6e4a-4dc0-8d0a-3c017146c3b5"
      },
      "outputs": [
        {
          "data": {
            "text/plain": [
              "neighbourhood_group                   0\n",
              "room_type                             0\n",
              "latitude                              0\n",
              "longitude                             0\n",
              "minimum_nights                        0\n",
              "number_of_reviews                     0\n",
              "reviews_per_month                 10052\n",
              "calculated_host_listings_count        0\n",
              "availability_365                      0\n",
              "price                                 0\n",
              "dtype: int64"
            ]
          },
          "execution_count": 5,
          "metadata": {},
          "output_type": "execute_result"
        }
      ],
      "source": [
        "#Fill NAs with 0\n",
        "dataset.isnull().sum()"
      ]
    },
    {
      "cell_type": "code",
      "execution_count": null,
      "metadata": {
        "id": "NvRoal_CRnGU"
      },
      "outputs": [],
      "source": [
        "#Filling missing data \n",
        "dataset['reviews_per_month'] = dataset['reviews_per_month'].fillna(value = 0)"
      ]
    },
    {
      "cell_type": "code",
      "execution_count": null,
      "metadata": {
        "colab": {
          "base_uri": "https://localhost:8080/"
        },
        "id": "-Lw16Oq-Ryap",
        "outputId": "55d165ce-74c1-4f7d-f508-911a77bc967c"
      },
      "outputs": [
        {
          "data": {
            "text/plain": [
              "neighbourhood_group               0\n",
              "room_type                         0\n",
              "latitude                          0\n",
              "longitude                         0\n",
              "minimum_nights                    0\n",
              "number_of_reviews                 0\n",
              "reviews_per_month                 0\n",
              "calculated_host_listings_count    0\n",
              "availability_365                  0\n",
              "price                             0\n",
              "dtype: int64"
            ]
          },
          "execution_count": 7,
          "metadata": {},
          "output_type": "execute_result"
        }
      ],
      "source": [
        "#Checking that there are no more missing data \n",
        "dataset.isnull().sum()"
      ]
    },
    {
      "cell_type": "code",
      "execution_count": null,
      "metadata": {
        "id": "_azFpHAoR6IP"
      },
      "outputs": [],
      "source": [
        "#Apply the log tranform to price\n",
        "dataset['price'] = np.log1p(dataset['price'])"
      ]
    },
    {
      "cell_type": "code",
      "execution_count": null,
      "metadata": {
        "id": "ZEb5vaSTSwdK"
      },
      "outputs": [],
      "source": [
        "#Split data into X and Y variables \n",
        "X = dataset.iloc[:, :-1]\n",
        "y = dataset.iloc[:,-1].values"
      ]
    },
    {
      "cell_type": "code",
      "execution_count": null,
      "metadata": {
        "id": "zUIGEOnNTVVz"
      },
      "outputs": [],
      "source": [
        "#Do train/validation/test split with 60%/20%/20% distribution.\n",
        "#Use the train_test_split function and set the random_state parameter to 1\n",
        "from sklearn.model_selection import train_test_split\n",
        "X_train,X_test,y_train,y_test = train_test_split(X, y, random_state =1, test_size = 0.40)\n",
        "X_test,X_validation,y_test,y_validation = train_test_split(X_test,y_test, random_state = 1, test_size = 0.50)"
      ]
    },
    {
      "cell_type": "code",
      "execution_count": null,
      "metadata": {
        "id": "OuEiDkAzUr2Y"
      },
      "outputs": [],
      "source": [
        "#Use DictVectorizer to turn the dataframe into matrices\n",
        "X_train = X_train.to_dict(orient = 'records')\n",
        "X_validation = X_validation.to_dict(orient = 'records')\n",
        "\n",
        "from sklearn.feature_extraction import DictVectorizer\n",
        "vectorizer = DictVectorizer(sparse=False)\n",
        "\n",
        "X_train = vectorizer.fit_transform(X_train)\n",
        "X_validation = vectorizer.fit_transform(X_validation)"
      ]
    },
    {
      "cell_type": "markdown",
      "metadata": {
        "id": "vyeLmXifh0Q7"
      },
      "source": [
        "#Question 1\n",
        "Let's train a decision tree regressor to predict the price \n",
        " variable.\n",
        "\n",
        "* Train a model with max_depth=1\n",
        "\n",
        "Which feature is used for splitting the data?\n",
        "\n",
        "* room_type\n",
        "* neighbourhood_group\n",
        "* number_of_reviews\n",
        "* reviews_per_month"
      ]
    },
    {
      "cell_type": "code",
      "execution_count": null,
      "metadata": {
        "colab": {
          "base_uri": "https://localhost:8080/"
        },
        "id": "CjM5l8jPVlX0",
        "outputId": "e1597f87-4c9b-4e50-e308-785cac11c42c"
      },
      "outputs": [
        {
          "data": {
            "text/plain": [
              "DecisionTreeRegressor(max_depth=1)"
            ]
          },
          "execution_count": 12,
          "metadata": {},
          "output_type": "execute_result"
        }
      ],
      "source": [
        "#Trian a Decision tree regressor\n",
        "from sklearn.tree import DecisionTreeRegressor\n",
        "model = DecisionTreeRegressor(max_depth = 1 )\n",
        "model.fit(X_train, y_train)"
      ]
    },
    {
      "cell_type": "code",
      "execution_count": null,
      "metadata": {
        "colab": {
          "base_uri": "https://localhost:8080/"
        },
        "id": "JZWMNJE2j1uy",
        "outputId": "9384acfc-47e5-47d2-df56-39b37663e10b"
      },
      "outputs": [
        {
          "name": "stdout",
          "output_type": "stream",
          "text": [
            "|--- room_type=Entire home/apt <= 0.50\n",
            "|   |--- value: [4.29]\n",
            "|--- room_type=Entire home/apt >  0.50\n",
            "|   |--- value: [5.15]\n",
            "\n"
          ]
        },
        {
          "name": "stderr",
          "output_type": "stream",
          "text": [
            "/usr/local/lib/python3.7/dist-packages/sklearn/utils/deprecation.py:87: FutureWarning: Function get_feature_names is deprecated; get_feature_names is deprecated in 1.0 and will be removed in 1.2. Please use get_feature_names_out instead.\n",
            "  warnings.warn(msg, category=FutureWarning)\n"
          ]
        }
      ],
      "source": [
        "#visualizing Which feature is used for splitting the data\n",
        "from sklearn.tree import export_text\n",
        "print(export_text(model, feature_names = vectorizer.get_feature_names()))"
      ]
    },
    {
      "cell_type": "markdown",
      "metadata": {
        "id": "f1Us6_W-nCss"
      },
      "source": [
        "Which feature is used for splitting the data?\n",
        "\n",
        "room_type"
      ]
    },
    {
      "cell_type": "markdown",
      "metadata": {
        "id": "uK06Br2FnMbl"
      },
      "source": [
        "# Question 2\n",
        "Train a random forest model with these parameters:\n",
        "\n",
        "* n_estimators=10\n",
        "* random_state=1\n",
        "* n_jobs=-1 (optional - to make training faster)\n",
        "\n",
        "What's the RMSE of this model on validation?\n",
        "\n",
        "* 0.059\n",
        "* 0.259\n",
        "* 0.459\n",
        "* 0.659"
      ]
    },
    {
      "cell_type": "code",
      "execution_count": null,
      "metadata": {
        "colab": {
          "base_uri": "https://localhost:8080/"
        },
        "id": "snnbK3G4mnxK",
        "outputId": "8f0bc8e5-8fef-4ba0-8fde-f9ad6c018906"
      },
      "outputs": [
        {
          "data": {
            "text/plain": [
              "RandomForestRegressor(n_estimators=10, n_jobs=-1, random_state=1)"
            ]
          },
          "execution_count": 14,
          "metadata": {},
          "output_type": "execute_result"
        }
      ],
      "source": [
        "#Train a random forest model with these parameters: n_estimators=10, random_state=1, n_jobs=-1 (optional - to make training faster)\n",
        "from sklearn.ensemble import RandomForestRegressor\n",
        "model = RandomForestRegressor(n_estimators=10, random_state=1, n_jobs=-1)\n",
        "model.fit(X_train, y_train)"
      ]
    },
    {
      "cell_type": "code",
      "execution_count": null,
      "metadata": {
        "id": "aNZO3vlSolSo"
      },
      "outputs": [],
      "source": [
        "#Making prediction\n",
        "y_pred = model.predict(X_validation)"
      ]
    },
    {
      "cell_type": "code",
      "execution_count": null,
      "metadata": {
        "colab": {
          "base_uri": "https://localhost:8080/"
        },
        "id": "IWLYI2nkntyz",
        "outputId": "0bfa68ca-a9e4-4472-96f6-b973b8a5ef4d"
      },
      "outputs": [
        {
          "data": {
            "text/plain": [
              "0.21546533333309423"
            ]
          },
          "execution_count": 16,
          "metadata": {},
          "output_type": "execute_result"
        }
      ],
      "source": [
        "#Calculating the mean_squared_error\n",
        "from sklearn.metrics import mean_squared_error\n",
        "mean_squared_error(y_validation, y_pred)"
      ]
    },
    {
      "cell_type": "markdown",
      "metadata": {
        "id": "7jSyWGQ0pH-2"
      },
      "source": [
        "# Question 3\n",
        "Now let's experiment with the n_estimators parameter\n",
        "\n",
        "* Try different values of this parameter from 10 to 200 with step 10\n",
        "* Set random_state to 1\n",
        "* Evaluate the model on the validation dataset\n",
        "\n",
        "After which value of n_estimators does RMSE stop improving?\n",
        "\n",
        "* 10\n",
        "* 50\n",
        "* 70\n",
        "* 120"
      ]
    },
    {
      "cell_type": "code",
      "execution_count": null,
      "metadata": {
        "colab": {
          "base_uri": "https://localhost:8080/",
          "height": 280
        },
        "id": "W62WAx5do_a2",
        "outputId": "c5be8366-b032-4b48-abfe-33a78296b661"
      },
      "outputs": [
        {
          "data": {
            "image/png": "[encoded data removed]",
            "text/plain": [
              "<Figure size 432x288 with 1 Axes>"
            ]
          },
          "metadata": {
            "needs_background": "light"
          },
          "output_type": "display_data"
        }
      ],
      "source": [
        "#Trainig a random forest model with diferent values for n_stimators parameter\n",
        "n_estimators = [ ]\n",
        "mse_list = [ ]\n",
        "for i in range(1,21):\n",
        "  model = RandomForestRegressor(n_estimators=i*10, random_state=1, n_jobs=-1)\n",
        "  model.fit(X_train, y_train)\n",
        "  y_pred = model.predict(X_validation)\n",
        "  mse = mean_squared_error(y_validation, y_pred)\n",
        "  mse_list.append(mse)\n",
        "  n_estimators.append(i*10)\n",
        "  \n",
        "\n",
        "plt.scatter(n_estimators, mse_list)\n",
        "plt.plot(n_estimators, mse_list)\n",
        "plt.xlabel('n_stimators')\n",
        "plt.ylabel('mse')\n",
        "plt.show()"
      ]
    },
    {
      "cell_type": "markdown",
      "metadata": {
        "id": "TrTDthI9xVT5"
      },
      "source": [
        "#Question 4\n",
        "\n",
        "Let's select the best max_depth:\n",
        "\n",
        "* Try different values of max_depth: [10, 15, 20, 25]\n",
        "* For each of these values, try different values of n_estimators from 10 till 200 (with step 10)\n",
        "* Fix the random seed: random_state=1\n",
        "\n",
        "What's the best max_depth:\n",
        "\n",
        "* 10\n",
        "* 15\n",
        "* 20\n",
        "* 25\n",
        "\n",
        "Bonus question (not graded):\n",
        "\n",
        "Will the answer be different if we change the seed for the model?"
      ]
    },
    {
      "cell_type": "code",
      "execution_count": null,
      "metadata": {
        "colab": {
          "base_uri": "https://localhost:8080/"
        },
        "id": "ejCULz_cwRF_",
        "outputId": "10376383-716d-4ece-ce13-15088433cf3e"
      },
      "outputs": [
        {
          "name": "stdout",
          "output_type": "stream",
          "text": [
            "depth:  10   n_estimators:  10   mse:  0.2012038017412851\n",
            "depth:  10   n_estimators:  20   mse:  0.1990845361231081\n",
            "depth:  10   n_estimators:  30   mse:  0.19845556802590153\n",
            "depth:  10   n_estimators:  40   mse:  0.19825684052084583\n",
            "depth:  10   n_estimators:  50   mse:  0.1978565957543545\n",
            "depth:  10   n_estimators:  60   mse:  0.1975173301898624\n",
            "depth:  10   n_estimators:  70   mse:  0.19741551145909073\n",
            "depth:  10   n_estimators:  80   mse:  0.19724930324353313\n",
            "depth:  10   n_estimators:  90   mse:  0.19711769989406888\n",
            "depth:  10   n_estimators:  100   mse:  0.19710089976491793\n",
            "depth:  10   n_estimators:  110   mse:  0.19722504937267218\n",
            "depth:  10   n_estimators:  120   mse:  0.1971923189549966\n",
            "depth:  10   n_estimators:  130   mse:  0.1971661188832679\n",
            "depth:  10   n_estimators:  140   mse:  0.19708984991758974\n",
            "depth:  10   n_estimators:  150   mse:  0.19703155888459026\n",
            "depth:  10   n_estimators:  160   mse:  0.19708244794704244\n",
            "depth:  10   n_estimators:  170   mse:  0.19706160936980702\n",
            "depth:  10   n_estimators:  180   mse:  0.19710736822298028\n",
            "depth:  10   n_estimators:  190   mse:  0.19704678977945178\n",
            "depth:  10   n_estimators:  200   mse:  0.19704811308026163\n",
            "depth:  15   n_estimators:  10   mse:  0.20730224963943109\n",
            "depth:  15   n_estimators:  20   mse:  0.20150449818027086\n",
            "depth:  15   n_estimators:  30   mse:  0.1996459586677876\n",
            "depth:  15   n_estimators:  40   mse:  0.1982180127734321\n",
            "depth:  15   n_estimators:  50   mse:  0.19701422467137017\n",
            "depth:  15   n_estimators:  60   mse:  0.1968745896805345\n",
            "depth:  15   n_estimators:  70   mse:  0.19632393339317838\n",
            "depth:  15   n_estimators:  80   mse:  0.19592720617594364\n",
            "depth:  15   n_estimators:  90   mse:  0.19574805952522903\n",
            "depth:  15   n_estimators:  100   mse:  0.19543124972716172\n",
            "depth:  15   n_estimators:  110   mse:  0.19553204729040288\n",
            "depth:  15   n_estimators:  120   mse:  0.1954108753507748\n",
            "depth:  15   n_estimators:  130   mse:  0.19531368894570858\n",
            "depth:  15   n_estimators:  140   mse:  0.19520045265616595\n",
            "depth:  15   n_estimators:  150   mse:  0.19515900129240804\n",
            "depth:  15   n_estimators:  160   mse:  0.1951667629632649\n",
            "depth:  15   n_estimators:  170   mse:  0.19515204517806045\n",
            "depth:  15   n_estimators:  180   mse:  0.195125232099539\n",
            "depth:  15   n_estimators:  190   mse:  0.19506049113918703\n",
            "depth:  15   n_estimators:  200   mse:  0.19498281580437823\n",
            "depth:  20   n_estimators:  10   mse:  0.2128997433329721\n",
            "depth:  20   n_estimators:  20   mse:  0.20528739805193796\n",
            "depth:  20   n_estimators:  30   mse:  0.20210123658223797\n",
            "depth:  20   n_estimators:  40   mse:  0.20076582671581933\n",
            "depth:  20   n_estimators:  50   mse:  0.19936702601696263\n",
            "depth:  20   n_estimators:  60   mse:  0.19902444192083663\n",
            "depth:  20   n_estimators:  70   mse:  0.19823994407475093\n",
            "depth:  20   n_estimators:  80   mse:  0.19776325780835727\n",
            "depth:  20   n_estimators:  90   mse:  0.1974641493549354\n",
            "depth:  20   n_estimators:  100   mse:  0.1973215685591512\n",
            "depth:  20   n_estimators:  110   mse:  0.19743935880695807\n",
            "depth:  20   n_estimators:  120   mse:  0.19735941115019012\n",
            "depth:  20   n_estimators:  130   mse:  0.1972679685825287\n",
            "depth:  20   n_estimators:  140   mse:  0.19708734953194065\n",
            "depth:  20   n_estimators:  150   mse:  0.19700796366034853\n",
            "depth:  20   n_estimators:  160   mse:  0.19696425105701446\n",
            "depth:  20   n_estimators:  170   mse:  0.19701149774621032\n",
            "depth:  20   n_estimators:  180   mse:  0.19703918501085607\n",
            "depth:  20   n_estimators:  190   mse:  0.19701644425566883\n",
            "depth:  20   n_estimators:  200   mse:  0.197074217522181\n",
            "depth:  25   n_estimators:  10   mse:  0.21568624015403248\n",
            "depth:  25   n_estimators:  20   mse:  0.20737431527019226\n",
            "depth:  25   n_estimators:  30   mse:  0.20395926430085087\n",
            "depth:  25   n_estimators:  40   mse:  0.2025100867993031\n",
            "depth:  25   n_estimators:  50   mse:  0.20093664638410144\n",
            "depth:  25   n_estimators:  60   mse:  0.20048561257352224\n",
            "depth:  25   n_estimators:  70   mse:  0.19969244529879168\n",
            "depth:  25   n_estimators:  80   mse:  0.1990970615153183\n",
            "depth:  25   n_estimators:  90   mse:  0.19875950916088578\n",
            "depth:  25   n_estimators:  100   mse:  0.19861261976296424\n",
            "depth:  25   n_estimators:  110   mse:  0.19861249491923494\n",
            "depth:  25   n_estimators:  120   mse:  0.1984700169374947\n",
            "depth:  25   n_estimators:  130   mse:  0.1983701650308439\n",
            "depth:  25   n_estimators:  140   mse:  0.1981983683398164\n",
            "depth:  25   n_estimators:  150   mse:  0.19806892079167931\n",
            "depth:  25   n_estimators:  160   mse:  0.19804098074869428\n",
            "depth:  25   n_estimators:  170   mse:  0.198020746665357\n",
            "depth:  25   n_estimators:  180   mse:  0.19807674336160538\n",
            "depth:  25   n_estimators:  190   mse:  0.19801148694018322\n",
            "depth:  25   n_estimators:  200   mse:  0.19798875633322222\n"
          ]
        }
      ],
      "source": [
        "#Traing a RandomForestRegressor model with diferent values for max_depth and n_estimators parameters \n",
        "max_depth = [10, 15, 20, 25]\n",
        "mse_list = [ ]\n",
        "\n",
        "for depth in max_depth:\n",
        "  for i in range(1, 21):\n",
        "    model = RandomForestRegressor(n_estimators=i*10, random_state=1, n_jobs=-1, max_depth = depth)\n",
        "    model.fit(X_train, y_train)\n",
        "    y_pred = model.predict(X_validation)\n",
        "    mse = mean_squared_error(y_validation, y_pred)\n",
        "    mse_list.append(mse)\n",
        "    print('depth: ', depth, '  n_estimators: ', i*10, '  mse: ', mse)\n"
      ]
    },
    {
      "cell_type": "markdown",
      "metadata": {
        "id": "6DXAs8ND1lF_"
      },
      "source": [
        "# Question 5\n",
        "\n",
        "We can extract feature importance information from tree-based models.\n",
        "\n",
        "At each step of the decision tree learning algorith, it finds the best split. When doint it, we can calculate \"gain\" - the reduction in impurity before and after the split. This gain is quite useful in understanding what are the imporatant features for tree-based models.\n",
        "\n",
        "In Scikit-Learn, tree-based models contain this information in the feature_importances_ field.\n",
        "\n",
        "For this homework question, we'll find the most important feature:\n",
        "\n",
        "* Train the model with these parametes:\n",
        "> * n_estimators=10,\n",
        "> * max_depth=20,\n",
        "> * random_state=1,\n",
        "> * n_jobs=-1 (optional)\n",
        "\n",
        "* Get the feature importance information from this model\n",
        "\n",
        "What's the most important feature?\n",
        "\n",
        "* neighbourhood_group=Manhattan\n",
        "* room_type=Entire home/apt\n",
        "* longitude\n",
        "* latitude"
      ]
    },
    {
      "cell_type": "code",
      "execution_count": null,
      "metadata": {
        "id": "Za1Ziqzi0IlS"
      },
      "outputs": [],
      "source": [
        "#Training a random forest model\n",
        "from sklearn.ensemble import RandomForestRegressor\n",
        "model = RandomForestRegressor(n_estimators=10, max_depth=20, random_state=1, n_jobs=-1)\n",
        "model.fit(X_train, y_train)"
      ]
    },
    {
      "cell_type": "code",
      "execution_count": null,
      "metadata": {
        "colab": {
          "base_uri": "https://localhost:8080/",
          "height": 265
        },
        "id": "nq-EJ1kA4nGj",
        "outputId": "ed893f0b-ba0b-490b-f3c8-4c117ab6441b"
      },
      "outputs": [
        {
          "data": {
            "image/png": "[encoded data removed]",
            "text/plain": [
              "<Figure size 432x288 with 1 Axes>"
            ]
          },
          "metadata": {
            "needs_background": "light"
          },
          "output_type": "display_data"
        }
      ],
      "source": [
        "#Important features plot visualization\n",
        "importance = model.feature_importances_\n",
        "plt.bar([x for x in range(len(importance))], importance)\n",
        "plt.show()"
      ]
    },
    {
      "cell_type": "code",
      "execution_count": null,
      "metadata": {
        "colab": {
          "base_uri": "https://localhost:8080/",
          "height": 556
        },
        "id": "Xq4vr2Ns5ge8",
        "outputId": "0e8e1b70-0f29-441b-a129-9cb4eb3b5793"
      },
      "outputs": [
        {
          "name": "stderr",
          "output_type": "stream",
          "text": [
            "/usr/local/lib/python3.7/dist-packages/sklearn/utils/deprecation.py:87: FutureWarning: Function get_feature_names is deprecated; get_feature_names is deprecated in 1.0 and will be removed in 1.2. Please use get_feature_names_out instead.\n",
            "  warnings.warn(msg, category=FutureWarning)\n"
          ]
        },
        {
          "data": {
            "text/html": [
              "\n",
              "  <div id=\"df-7e552781-12c9-44e0-af02-2d5c27f65e5f\">\n",
              "    <div class=\"colab-df-container\">\n",
              "      <div>\n",
              "<style scoped>\n",
              "    .dataframe tbody tr th:only-of-type {\n",
              "        vertical-align: middle;\n",
              "    }\n",
              "\n",
              "    .dataframe tbody tr th {\n",
              "        vertical-align: top;\n",
              "    }\n",
              "\n",
              "    .dataframe thead th {\n",
              "        text-align: right;\n",
              "    }\n",
              "</style>\n",
              "<table border=\"1\" class=\"dataframe\">\n",
              "  <thead>\n",
              "    <tr style=\"text-align: right;\">\n",
              "      <th></th>\n",
              "      <th>features</th>\n",
              "      <th>importance</th>\n",
              "    </tr>\n",
              "  </thead>\n",
              "  <tbody>\n",
              "    <tr>\n",
              "      <th>0</th>\n",
              "      <td>availability_365</td>\n",
              "      <td>0.080960</td>\n",
              "    </tr>\n",
              "    <tr>\n",
              "      <th>1</th>\n",
              "      <td>calculated_host_listings_count</td>\n",
              "      <td>0.032539</td>\n",
              "    </tr>\n",
              "    <tr>\n",
              "      <th>2</th>\n",
              "      <td>latitude</td>\n",
              "      <td>0.146491</td>\n",
              "    </tr>\n",
              "    <tr>\n",
              "      <th>3</th>\n",
              "      <td>longitude</td>\n",
              "      <td>0.158491</td>\n",
              "    </tr>\n",
              "    <tr>\n",
              "      <th>4</th>\n",
              "      <td>minimum_nights</td>\n",
              "      <td>0.050223</td>\n",
              "    </tr>\n",
              "    <tr>\n",
              "      <th>5</th>\n",
              "      <td>neighbourhood_group=Bronx</td>\n",
              "      <td>0.000319</td>\n",
              "    </tr>\n",
              "    <tr>\n",
              "      <th>6</th>\n",
              "      <td>neighbourhood_group=Brooklyn</td>\n",
              "      <td>0.001218</td>\n",
              "    </tr>\n",
              "    <tr>\n",
              "      <th>7</th>\n",
              "      <td>neighbourhood_group=Manhattan</td>\n",
              "      <td>0.028573</td>\n",
              "    </tr>\n",
              "    <tr>\n",
              "      <th>8</th>\n",
              "      <td>neighbourhood_group=Queens</td>\n",
              "      <td>0.001409</td>\n",
              "    </tr>\n",
              "    <tr>\n",
              "      <th>9</th>\n",
              "      <td>neighbourhood_group=Staten Island</td>\n",
              "      <td>0.000054</td>\n",
              "    </tr>\n",
              "    <tr>\n",
              "      <th>10</th>\n",
              "      <td>number_of_reviews</td>\n",
              "      <td>0.044056</td>\n",
              "    </tr>\n",
              "    <tr>\n",
              "      <th>11</th>\n",
              "      <td>reviews_per_month</td>\n",
              "      <td>0.055770</td>\n",
              "    </tr>\n",
              "    <tr>\n",
              "      <th>12</th>\n",
              "      <td>room_type=Entire home/apt</td>\n",
              "      <td>0.391285</td>\n",
              "    </tr>\n",
              "    <tr>\n",
              "      <th>13</th>\n",
              "      <td>room_type=Private room</td>\n",
              "      <td>0.005763</td>\n",
              "    </tr>\n",
              "    <tr>\n",
              "      <th>14</th>\n",
              "      <td>room_type=Shared room</td>\n",
              "      <td>0.002851</td>\n",
              "    </tr>\n",
              "  </tbody>\n",
              "</table>\n",
              "</div>\n",
              "      <button class=\"colab-df-convert\" onclick=\"convertToInteractive('df-7e552781-12c9-44e0-af02-2d5c27f65e5f')\"\n",
              "              title=\"Convert this dataframe to an interactive table.\"\n",
              "              style=\"display:none;\">\n",
              "        \n",
              "  <svg xmlns=\"http://www.w3.org/2000/svg\" height=\"24px\"viewBox=\"0 0 24 24\"\n",
              "       width=\"24px\">\n",
              "    <path d=\"M0 0h24v24H0V0z\" fill=\"none\"/>\n",
              "    <path d=\"M18.56 5.44l.94 2.06.94-2.06 2.06-.94-2.06-.94-.94-2.06-.94 2.06-2.06.94zm-11 1L8.5 8.5l.94-2.06 2.06-.94-2.06-.94L8.5 2.5l-.94 2.06-2.06.94zm10 10l.94 2.06.94-2.06 2.06-.94-2.06-.94-.94-2.06-.94 2.06-2.06.94z\"/><path d=\"M17.41 7.96l-1.37-1.37c-.4-.4-.92-.59-1.43-.59-.52 0-1.04.2-1.43.59L10.3 9.45l-7.72 7.72c-.78.78-.78 2.05 0 2.83L4 21.41c.39.39.9.59 1.41.59.51 0 1.02-.2 1.41-.59l7.78-7.78 2.81-2.81c.8-.78.8-2.07 0-2.86zM5.41 20L4 18.59l7.72-7.72 1.47 1.35L5.41 20z\"/>\n",
              "  </svg>\n",
              "      </button>\n",
              "      \n",
              "  <style>\n",
              "    .colab-df-container {\n",
              "      display:flex;\n",
              "      flex-wrap:wrap;\n",
              "      gap: 12px;\n",
              "    }\n",
              "\n",
              "    .colab-df-convert {\n",
              "      background-color: #E8F0FE;\n",
              "      border: none;\n",
              "      border-radius: 50%;\n",
              "      cursor: pointer;\n",
              "      display: none;\n",
              "      fill: #1967D2;\n",
              "      height: 32px;\n",
              "      padding: 0 0 0 0;\n",
              "      width: 32px;\n",
              "    }\n",
              "\n",
              "    .colab-df-convert:hover {\n",
              "      background-color: #E2EBFA;\n",
              "      box-shadow: 0px 1px 2px rgba(60, 64, 67, 0.3), 0px 1px 3px 1px rgba(60, 64, 67, 0.15);\n",
              "      fill: #174EA6;\n",
              "    }\n",
              "\n",
              "    [theme=dark] .colab-df-convert {\n",
              "      background-color: #3B4455;\n",
              "      fill: #D2E3FC;\n",
              "    }\n",
              "\n",
              "    [theme=dark] .colab-df-convert:hover {\n",
              "      background-color: #434B5C;\n",
              "      box-shadow: 0px 1px 3px 1px rgba(0, 0, 0, 0.15);\n",
              "      filter: drop-shadow(0px 1px 2px rgba(0, 0, 0, 0.3));\n",
              "      fill: #FFFFFF;\n",
              "    }\n",
              "  </style>\n",
              "\n",
              "      <script>\n",
              "        const buttonEl =\n",
              "          document.querySelector('#df-7e552781-12c9-44e0-af02-2d5c27f65e5f button.colab-df-convert');\n",
              "        buttonEl.style.display =\n",
              "          google.colab.kernel.accessAllowed ? 'block' : 'none';\n",
              "\n",
              "        async function convertToInteractive(key) {\n",
              "          const element = document.querySelector('#df-7e552781-12c9-44e0-af02-2d5c27f65e5f');\n",
              "          const dataTable =\n",
              "            await google.colab.kernel.invokeFunction('convertToInteractive',\n",
              "                                                     [key], {});\n",
              "          if (!dataTable) return;\n",
              "\n",
              "          const docLinkHtml = 'Like what you see? Visit the ' +\n",
              "            '<a target=\"_blank\" href=https://colab.research.google.com/notebooks/data_table.ipynb>data table notebook</a>'\n",
              "            + ' to learn more about interactive tables.';\n",
              "          element.innerHTML = '';\n",
              "          dataTable['output_type'] = 'display_data';\n",
              "          await google.colab.output.renderOutput(dataTable, element);\n",
              "          const docLink = document.createElement('div');\n",
              "          docLink.innerHTML = docLinkHtml;\n",
              "          element.appendChild(docLink);\n",
              "        }\n",
              "      </script>\n",
              "    </div>\n",
              "  </div>\n",
              "  "
            ],
            "text/plain": [
              "                             features  importance\n",
              "0                    availability_365    0.080960\n",
              "1      calculated_host_listings_count    0.032539\n",
              "2                            latitude    0.146491\n",
              "3                           longitude    0.158491\n",
              "4                      minimum_nights    0.050223\n",
              "5           neighbourhood_group=Bronx    0.000319\n",
              "6        neighbourhood_group=Brooklyn    0.001218\n",
              "7       neighbourhood_group=Manhattan    0.028573\n",
              "8          neighbourhood_group=Queens    0.001409\n",
              "9   neighbourhood_group=Staten Island    0.000054\n",
              "10                  number_of_reviews    0.044056\n",
              "11                  reviews_per_month    0.055770\n",
              "12          room_type=Entire home/apt    0.391285\n",
              "13             room_type=Private room    0.005763\n",
              "14              room_type=Shared room    0.002851"
            ]
          },
          "execution_count": 21,
          "metadata": {},
          "output_type": "execute_result"
        }
      ],
      "source": [
        "#Important features dataframe visualization\n",
        "df_importances = pd.DataFrame()\n",
        "df_importances['features'] = vectorizer.get_feature_names()\n",
        "df_importances['importance'] = model.feature_importances_\n",
        "df_importances"
      ]
    },
    {
      "cell_type": "markdown",
      "metadata": {
        "id": "Sea-XHaQ6_rX"
      },
      "source": [
        "What's the most important feature?\n",
        "\n",
        "\n",
        "room_type=Entire home/apt"
      ]
    },
    {
      "cell_type": "markdown",
      "metadata": {
        "id": "tRSC0se1iCqK"
      },
      "source": [
        "# Question 6\n",
        "Now let's train an XGBoost model! For this question, we'll tune the eta parameter\n",
        "\n",
        "* Install XGBoost\n",
        "* Create DMatrix for train and validation\n",
        "* Create a watchlist\n",
        "* Train a model with these parameters for 100 rounds:\n",
        "\n",
        "\n",
        " xgb_params = { 'eta': 0.3, 'max_depth': 6, 'min_child_weight': 1, 'objective': 'reg:squarederror','nthread': 8,'seed': 1,'verbosity': 1}\n",
        "\n",
        "\n",
        "Now change eta first to 0.1 and then to 0.01\n",
        "\n",
        "Which eta leads to the best RMSE score on the validation dataset?\n",
        "\n",
        "* 0.3\n",
        "* 0.1\n",
        "* 0.01"
      ]
    },
    {
      "cell_type": "code",
      "execution_count": null,
      "metadata": {
        "colab": {
          "base_uri": "https://localhost:8080/"
        },
        "id": "qphVeTEE6zm9",
        "outputId": "835d3bac-bcc1-4034-c353-3d6e00a69fd1"
      },
      "outputs": [
        {
          "name": "stdout",
          "output_type": "stream",
          "text": [
            "Looking in indexes: https://pypi.org/simple, https://us-python.pkg.dev/colab-wheels/public/simple/\n",
            "Requirement already satisfied: xgboost in /usr/local/lib/python3.7/dist-packages (0.90)\n",
            "Requirement already satisfied: numpy in /usr/local/lib/python3.7/dist-packages (from xgboost) (1.21.6)\n",
            "Requirement already satisfied: scipy in /usr/local/lib/python3.7/dist-packages (from xgboost) (1.4.1)\n"
          ]
        }
      ],
      "source": [
        "# Install XGBoost\n",
        "pip install xgboost"
      ]
    },
    {
      "cell_type": "code",
      "execution_count": null,
      "metadata": {
        "id": "mfpwWYwspEKC"
      },
      "outputs": [],
      "source": [
        "import xgboost as xgb "
      ]
    },
    {
      "cell_type": "code",
      "execution_count": null,
      "metadata": {
        "colab": {
          "base_uri": "https://localhost:8080/"
        },
        "id": "txVtON1_npMS",
        "outputId": "f61c8295-661b-4ee4-ca4f-cd4b08556d7b"
      },
      "outputs": [
        {
          "name": "stderr",
          "output_type": "stream",
          "text": [
            "/usr/local/lib/python3.7/dist-packages/sklearn/utils/deprecation.py:87: FutureWarning: Function get_feature_names is deprecated; get_feature_names is deprecated in 1.0 and will be removed in 1.2. Please use get_feature_names_out instead.\n",
            "  warnings.warn(msg, category=FutureWarning)\n"
          ]
        }
      ],
      "source": [
        "#Create DMatrix for train and validation sets\n",
        "features = vectorizer.get_feature_names()\n",
        "X_train = xgb.DMatrix(X_train, label=y_train, feature_names=features)\n",
        "X_validation = xgb.DMatrix(X_validation, label=y_validation, feature_names=features)"
      ]
    },
    {
      "cell_type": "code",
      "execution_count": null,
      "metadata": {
        "id": "A04K2gwxpLk7"
      },
      "outputs": [],
      "source": [
        "#Create a watchlist\n",
        "watchlist = [(X_train, 'train'), (X_validation, 'val')]"
      ]
    },
    {
      "cell_type": "code",
      "execution_count": null,
      "metadata": {
        "id": "2fpiigA-peHE"
      },
      "outputs": [],
      "source": [
        "def parse_xgb_output(output):\n",
        "    results = []\n",
        "\n",
        "    for line in output.stdout.strip().split('\\n'):\n",
        "        it_line, train_line, val_line = line.split('\\t')\n",
        "\n",
        "        it = int(it_line.strip('[]'))\n",
        "        train = float(train_line.split(':')[1])\n",
        "        val = float(val_line.split(':')[1])\n",
        "\n",
        "        results.append((it, train, val))\n",
        "    \n",
        "    columns = ['num_iter', 'train_auc', 'val_auc']\n",
        "    df_results = pd.DataFrame(results, columns=columns)\n",
        "    return df_results"
      ]
    },
    {
      "cell_type": "code",
      "execution_count": null,
      "metadata": {
        "colab": {
          "base_uri": "https://localhost:8080/"
        },
        "id": "aHXggAQLp8EA",
        "outputId": "cdbaf873-9d2a-4c51-993b-734952a8da34"
      },
      "outputs": [
        {
          "name": "stdout",
          "output_type": "stream",
          "text": [
            "[0]\ttrain-rmse:3.02647\tval-rmse:3.02174\n",
            "[5]\ttrain-rmse:0.674114\tval-rmse:0.67634\n",
            "[10]\ttrain-rmse:0.438268\tval-rmse:0.454656\n",
            "[15]\ttrain-rmse:0.421763\tval-rmse:0.44444\n",
            "[20]\ttrain-rmse:0.413337\tval-rmse:0.441905\n",
            "[25]\ttrain-rmse:0.409284\tval-rmse:0.440864\n",
            "[30]\ttrain-rmse:0.404422\tval-rmse:0.440131\n",
            "[35]\ttrain-rmse:0.400893\tval-rmse:0.439744\n",
            "[40]\ttrain-rmse:0.39717\tval-rmse:0.439863\n",
            "[45]\ttrain-rmse:0.394687\tval-rmse:0.440272\n",
            "[50]\ttrain-rmse:0.390233\tval-rmse:0.440331\n",
            "[55]\ttrain-rmse:0.388507\tval-rmse:0.440128\n",
            "[60]\ttrain-rmse:0.384808\tval-rmse:0.440549\n",
            "[65]\ttrain-rmse:0.382998\tval-rmse:0.440445\n",
            "[70]\ttrain-rmse:0.379886\tval-rmse:0.440505\n",
            "[75]\ttrain-rmse:0.377552\tval-rmse:0.440336\n",
            "[80]\ttrain-rmse:0.37384\tval-rmse:0.440134\n",
            "[85]\ttrain-rmse:0.370992\tval-rmse:0.440165\n",
            "[90]\ttrain-rmse:0.369273\tval-rmse:0.440308\n",
            "[95]\ttrain-rmse:0.367247\tval-rmse:0.440379\n",
            "[99]\ttrain-rmse:0.366025\tval-rmse:0.440316\n"
          ]
        }
      ],
      "source": [
        "# Train a model with these parameters for 100 rounds:\n",
        "\n",
        "xgb_params = {\n",
        "    'eta': 0.3, \n",
        "    'max_depth': 6,\n",
        "    'min_child_weight': 1,\n",
        "    \n",
        "    'objective': 'reg:squarederror',\n",
        "    'nthread': 8,\n",
        "    \n",
        "    'seed': 1,\n",
        "    'verbosity': 1,\n",
        "}\n",
        "model_0_3 = xgb.train(xgb_params, X_train, num_boost_round=100,\n",
        "                  verbose_eval=5, evals=watchlist)"
      ]
    },
    {
      "cell_type": "code",
      "execution_count": null,
      "metadata": {
        "colab": {
          "base_uri": "https://localhost:8080/"
        },
        "id": "u9g-Nxrvqzcb",
        "outputId": "d61ee320-3cf8-47c5-bed6-78fb5b3251b6"
      },
      "outputs": [
        {
          "name": "stdout",
          "output_type": "stream",
          "text": [
            "[0]\ttrain-rmse:3.87085\tval-rmse:3.86639\n",
            "[5]\ttrain-rmse:2.31811\tval-rmse:2.31368\n",
            "[10]\ttrain-rmse:1.41841\tval-rmse:1.4147\n",
            "[15]\ttrain-rmse:0.912367\tval-rmse:0.911668\n",
            "[20]\ttrain-rmse:0.644728\tval-rmse:0.648153\n",
            "[25]\ttrain-rmse:0.517006\tval-rmse:0.524955\n",
            "[30]\ttrain-rmse:0.461337\tval-rmse:0.473395\n",
            "[35]\ttrain-rmse:0.438234\tval-rmse:0.453695\n",
            "[40]\ttrain-rmse:0.427887\tval-rmse:0.446075\n",
            "[45]\ttrain-rmse:0.422498\tval-rmse:0.442805\n",
            "[50]\ttrain-rmse:0.418833\tval-rmse:0.441143\n",
            "[55]\ttrain-rmse:0.415854\tval-rmse:0.440215\n",
            "[60]\ttrain-rmse:0.413441\tval-rmse:0.439631\n",
            "[65]\ttrain-rmse:0.411181\tval-rmse:0.439303\n",
            "[70]\ttrain-rmse:0.409494\tval-rmse:0.439053\n",
            "[75]\ttrain-rmse:0.408267\tval-rmse:0.438812\n",
            "[80]\ttrain-rmse:0.40635\tval-rmse:0.438606\n",
            "[85]\ttrain-rmse:0.405202\tval-rmse:0.438476\n",
            "[90]\ttrain-rmse:0.403818\tval-rmse:0.438218\n",
            "[95]\ttrain-rmse:0.402823\tval-rmse:0.438195\n",
            "[99]\ttrain-rmse:0.401521\tval-rmse:0.438145\n"
          ]
        }
      ],
      "source": [
        "# Now change eta first to 0.1 and then to 0.01\n",
        "xgb_params = {\n",
        "    'eta': 0.1, \n",
        "    'max_depth': 6,\n",
        "    'min_child_weight': 1,\n",
        "    \n",
        "    'objective': 'reg:squarederror',\n",
        "    'nthread': 8,\n",
        "    \n",
        "    'seed': 1,\n",
        "    'verbosity': 1,\n",
        "}\n",
        "model_0_1 = xgb.train(xgb_params, X_train, num_boost_round=100,\n",
        "                  verbose_eval=5, evals=watchlist)"
      ]
    },
    {
      "cell_type": "code",
      "execution_count": null,
      "metadata": {
        "colab": {
          "base_uri": "https://localhost:8080/"
        },
        "id": "K6rsPpzrrwlG",
        "outputId": "b6df54a9-4907-4c6b-f8dd-f22aeff07036"
      },
      "outputs": [
        {
          "name": "stdout",
          "output_type": "stream",
          "text": [
            "[0]\ttrain-rmse:4.2519\tval-rmse:4.24758\n",
            "[5]\ttrain-rmse:4.0464\tval-rmse:4.04202\n",
            "[10]\ttrain-rmse:3.85109\tval-rmse:3.84669\n",
            "[15]\ttrain-rmse:3.66548\tval-rmse:3.66107\n",
            "[20]\ttrain-rmse:3.48909\tval-rmse:3.48467\n",
            "[25]\ttrain-rmse:3.32149\tval-rmse:3.31703\n",
            "[30]\ttrain-rmse:3.16222\tval-rmse:3.15774\n",
            "[35]\ttrain-rmse:3.01091\tval-rmse:3.00643\n",
            "[40]\ttrain-rmse:2.86716\tval-rmse:2.86267\n",
            "[45]\ttrain-rmse:2.73061\tval-rmse:2.72614\n",
            "[50]\ttrain-rmse:2.60093\tval-rmse:2.59646\n",
            "[55]\ttrain-rmse:2.47776\tval-rmse:2.47334\n",
            "[60]\ttrain-rmse:2.36082\tval-rmse:2.35641\n",
            "[65]\ttrain-rmse:2.24979\tval-rmse:2.24541\n",
            "[70]\ttrain-rmse:2.1444\tval-rmse:2.14007\n",
            "[75]\ttrain-rmse:2.04437\tval-rmse:2.04013\n",
            "[80]\ttrain-rmse:1.94947\tval-rmse:1.9453\n",
            "[85]\ttrain-rmse:1.85944\tval-rmse:1.85535\n",
            "[90]\ttrain-rmse:1.77406\tval-rmse:1.7701\n",
            "[95]\ttrain-rmse:1.6931\tval-rmse:1.68924\n",
            "[99]\ttrain-rmse:1.63137\tval-rmse:1.62762\n"
          ]
        }
      ],
      "source": [
        "\n",
        "xgb_params = {\n",
        "    'eta': 0.01, \n",
        "    'max_depth': 6,\n",
        "    'min_child_weight': 1,\n",
        "    \n",
        "    'objective': 'reg:squarederror',\n",
        "    'nthread': 8,\n",
        "    \n",
        "    'seed': 1,\n",
        "    'verbosity': 1,\n",
        "}\n",
        "model_0_0_1 = xgb.train(xgb_params, X_train, num_boost_round=100,\n",
        "                  verbose_eval=5, evals=watchlist)"
      ]
    },
    {
      "cell_type": "markdown",
      "metadata": {
        "id": "8b6wriIpsnvr"
      },
      "source": [
        "Which eta leads to the best RMSE score on the validation dataset?\n",
        "\n",
        "0.1"
      ]
    },
    {
      "cell_type": "code",
      "execution_count": null,
      "metadata": {
        "id": "rano_JYdsqNv"
      },
      "outputs": [],
      "source": []
    }
  ],
  "metadata": {
    "colab": {
      "name": "Week 6.ipynb",
      "provenance": []
    },
    "kernelspec": {
      "display_name": "Python 3",
      "name": "python3"
    },
    "language_info": {
      "name": "python"
    }
  },
  "nbformat": 4,
  "nbformat_minor": 0
}
