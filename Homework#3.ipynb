{
  "cells": [
    {
      "cell_type": "markdown",
      "metadata": {
        "id": "x4ZN3Ovwp-5V"
      },
      "source": [
        "#Set up"
      ]
    },
    {
      "cell_type": "code",
      "execution_count": 35,
      "metadata": {
        "id": "Yr15Fxl8TZjW"
      },
      "outputs": [],
      "source": [
        "#Import important libraries\n",
        "import pandas as pd\n",
        "import numpy as np\n",
        "import matplotlib.pyplot as plt\n",
        "import seaborn as sns "
      ]
    },
    {
      "cell_type": "code",
      "execution_count": 36,
      "metadata": {
        "colab": {
          "base_uri": "https://localhost:8080/"
        },
        "id": "YPP2WpkaV43A",
        "outputId": "0e49b1c5-e7c0-4861-b540-e9d807abdb68"
      },
      "outputs": [
        {
          "name": "stdout",
          "output_type": "stream",
          "text": [
            "Looking in indexes: https://pypi.org/simple, https://us-python.pkg.dev/colab-wheels/public/simple/\n",
            "Requirement already satisfied: kaggle in /usr/local/lib/python3.7/dist-packages (1.5.12)\n",
            "Requirement already satisfied: requests in /usr/local/lib/python3.7/dist-packages (from kaggle) (2.23.0)\n",
            "Requirement already satisfied: tqdm in /usr/local/lib/python3.7/dist-packages (from kaggle) (4.64.0)\n",
            "Requirement already satisfied: urllib3 in /usr/local/lib/python3.7/dist-packages (from kaggle) (1.24.3)\n",
            "Requirement already satisfied: six>=1.10 in /usr/local/lib/python3.7/dist-packages (from kaggle) (1.15.0)\n",
            "Requirement already satisfied: python-dateutil in /usr/local/lib/python3.7/dist-packages (from kaggle) (2.8.2)\n",
            "Requirement already satisfied: python-slugify in /usr/local/lib/python3.7/dist-packages (from kaggle) (6.1.2)\n",
            "Requirement already satisfied: certifi in /usr/local/lib/python3.7/dist-packages (from kaggle) (2022.6.15)\n",
            "Requirement already satisfied: text-unidecode>=1.3 in /usr/local/lib/python3.7/dist-packages (from python-slugify->kaggle) (1.3)\n",
            "Requirement already satisfied: chardet<4,>=3.0.2 in /usr/local/lib/python3.7/dist-packages (from requests->kaggle) (3.0.4)\n",
            "Requirement already satisfied: idna<3,>=2.5 in /usr/local/lib/python3.7/dist-packages (from requests->kaggle) (2.10)\n"
          ]
        }
      ],
      "source": [
        "#Installing Kaggle to get access to data\n",
        "!pip install kaggle "
      ]
    },
    {
      "cell_type": "code",
      "execution_count": 37,
      "metadata": {
        "colab": {
          "base_uri": "https://localhost:8080/",
          "height": 93,
          "resources": {
            "http://localhost:8080/nbextensions/google.colab/files.js": {
              "data": "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",
              "headers": [
                [
                  "content-type",
                  "application/javascript"
                ]
              ],
              "ok": true,
              "status": 200,
              "status_text": ""
            }
          }
        },
        "id": "rqMfzbYVV40n",
        "outputId": "dafc73b1-df14-42f9-c678-ba30d995e7d8"
      },
      "outputs": [
        {
          "data": {
            "text/html": [
              "\n",
              "     <input type=\"file\" id=\"files-890ffe91-6c22-4467-bed0-c123732ddc13\" name=\"files[]\" multiple disabled\n",
              "        style=\"border:none\" />\n",
              "     <output id=\"result-890ffe91-6c22-4467-bed0-c123732ddc13\">\n",
              "      Upload widget is only available when the cell has been executed in the\n",
              "      current browser session. Please rerun this cell to enable.\n",
              "      </output>\n",
              "      <script src=\"/nbextensions/google.colab/files.js\"></script> "
            ],
            "text/plain": [
              "<IPython.core.display.HTML object>"
            ]
          },
          "metadata": {},
          "output_type": "display_data"
        },
        {
          "name": "stdout",
          "output_type": "stream",
          "text": [
            "Saving kaggle.json to kaggle (1).json\n"
          ]
        },
        {
          "data": {
            "text/plain": [
              "{'kaggle.json': b'{\"username\":\"arturogranados\",\"key\":\"55059be5f146d7c79b57678f7c5d7d6e\"}'}"
            ]
          },
          "execution_count": 37,
          "metadata": {},
          "output_type": "execute_result"
        }
      ],
      "source": [
        "#Api token to get access to kaggle datasets\n",
        "from google.colab import files\n",
        "files.upload()"
      ]
    },
    {
      "cell_type": "code",
      "execution_count": 38,
      "metadata": {
        "colab": {
          "base_uri": "https://localhost:8080/"
        },
        "id": "QZv3JVPvV4xH",
        "outputId": "a26f33b4-eec3-4020-8121-f23dad8a11e5"
      },
      "outputs": [
        {
          "name": "stdout",
          "output_type": "stream",
          "text": [
            "/content\n"
          ]
        }
      ],
      "source": [
        "#Directory\n",
        "!pwd"
      ]
    },
    {
      "cell_type": "code",
      "execution_count": 39,
      "metadata": {
        "id": "i9kn8oQFV4ua"
      },
      "outputs": [],
      "source": [
        "#Directory configuration\n",
        "import os \n",
        "os.environ['KAGGLE_CONFIG_DIR'] = '/content'"
      ]
    },
    {
      "cell_type": "code",
      "execution_count": 40,
      "metadata": {
        "colab": {
          "base_uri": "https://localhost:8080/"
        },
        "id": "37-KmtLtWBMr",
        "outputId": "01d91e50-26f3-445f-b09f-1c84409957dd"
      },
      "outputs": [
        {
          "name": "stdout",
          "output_type": "stream",
          "text": [
            "Warning: Your Kaggle API key is readable by other users on this system! To fix this, you can run 'chmod 600 /content/kaggle.json'\n",
            "new-york-city-airbnb-open-data.zip: Skipping, found more recently modified local copy (use --force to force download)\n"
          ]
        }
      ],
      "source": [
        "#Download the dataset\n",
        "!kaggle datasets download -d dgomonov/new-york-city-airbnb-open-data"
      ]
    },
    {
      "cell_type": "code",
      "execution_count": 41,
      "metadata": {
        "id": "nyXJ6jqmV8Lq"
      },
      "outputs": [],
      "source": [
        "#Function to extrac files from a .zip file\n",
        "from zipfile import ZipFile \n",
        "\n",
        "def open_zipfile(file_name):\n",
        "  with ZipFile(file_name, 'r') as zip:\n",
        "    \n",
        "    zip.printdir()\n",
        "    zip.extractall()"
      ]
    },
    {
      "cell_type": "code",
      "execution_count": 42,
      "metadata": {
        "colab": {
          "base_uri": "https://localhost:8080/"
        },
        "id": "s3XJcbsfV8JC",
        "outputId": "5d472828-d4e7-4e56-d6ea-532599ad3b1b"
      },
      "outputs": [
        {
          "name": "stdout",
          "output_type": "stream",
          "text": [
            "File Name                                             Modified             Size\n",
            "AB_NYC_2019.csv                                2019-10-27 22:06:18      7077973\n",
            "New_York_City_.png                             2019-10-27 22:06:20       192340\n"
          ]
        }
      ],
      "source": [
        "#Applyinf open_zipfile to get the csv file\n",
        "open_zipfile('new-york-city-airbnb-open-data.zip')"
      ]
    },
    {
      "cell_type": "markdown",
      "metadata": {
        "id": "-dyKfpizp4LE"
      },
      "source": [
        "#Dataset\n",
        "\n",
        "We'll keep working with the 'price' variable, and we'll transform it to a classification task."
      ]
    },
    {
      "cell_type": "code",
      "execution_count": 43,
      "metadata": {
        "id": "md7r6gaBWfRG"
      },
      "outputs": [],
      "source": [
        "#Reading the csv file with pandas\n",
        "dataset = pd.read_csv('AB_NYC_2019.csv')"
      ]
    },
    {
      "cell_type": "markdown",
      "metadata": {
        "id": "Jkm15axRwCoq"
      },
      "source": [
        "#Features\n",
        "\n",
        "For the rest of the homework, you'll need to use the features from the previous homework with additional two 'neighbourhood_group' and 'room_type'. So the whole feature set will be set as follows:\n",
        "\n",
        "* 'neighbourhood_group',\n",
        "* 'room_type',\n",
        "* 'latitude',\n",
        "* 'longitude',\n",
        "* 'price',\n",
        "* 'minimum_nights',\n",
        "* 'number_of_reviews',\n",
        "* 'reviews_per_month',\n",
        "* 'calculated_host_listings_count',\n",
        "* 'availability_365'\n",
        "\n",
        "Select only them and fill in the missing values with 0."
      ]
    },
    {
      "cell_type": "code",
      "execution_count": 44,
      "metadata": {
        "id": "oxXEKjB_W6z9"
      },
      "outputs": [],
      "source": [
        "#Important features list\n",
        "important_features = ['neighbourhood_group', 'room_type', 'latitude', 'longitude','minimum_nights', 'number_of_reviews', 'reviews_per_month', 'calculated_host_listings_count', 'availability_365', 'price']\n",
        "#Important columns selection\n",
        "dataset = dataset[important_features]"
      ]
    },
    {
      "cell_type": "code",
      "execution_count": 45,
      "metadata": {
        "colab": {
          "base_uri": "https://localhost:8080/"
        },
        "id": "PdXlUuEaxy16",
        "outputId": "957d4ab2-c6ce-4d53-df39-8bda3282d594"
      },
      "outputs": [
        {
          "data": {
            "text/plain": [
              "neighbourhood_group                   0\n",
              "room_type                             0\n",
              "latitude                              0\n",
              "longitude                             0\n",
              "minimum_nights                        0\n",
              "number_of_reviews                     0\n",
              "reviews_per_month                 10052\n",
              "calculated_host_listings_count        0\n",
              "availability_365                      0\n",
              "price                                 0\n",
              "dtype: int64"
            ]
          },
          "execution_count": 45,
          "metadata": {},
          "output_type": "execute_result"
        }
      ],
      "source": [
        "#Fill in the missing values with 0.\n",
        "dataset.isnull().sum()"
      ]
    },
    {
      "cell_type": "code",
      "execution_count": 46,
      "metadata": {
        "id": "WEfvWak4x5UG"
      },
      "outputs": [],
      "source": [
        "#Fill in the missing values with 0.\n",
        "dataset['reviews_per_month'] = dataset['reviews_per_month'].fillna(value = 0)"
      ]
    },
    {
      "cell_type": "markdown",
      "metadata": {
        "id": "NxEK5pf8y-zu"
      },
      "source": [
        "#Question 1\n",
        "What is the most frequent observation (mode) for the column 'neighbourhood_group'?"
      ]
    },
    {
      "cell_type": "code",
      "execution_count": 47,
      "metadata": {
        "colab": {
          "base_uri": "https://localhost:8080/"
        },
        "id": "LsB7_5xTyMRo",
        "outputId": "c9d69797-c3f3-46aa-d6fa-e182b1d59035"
      },
      "outputs": [
        {
          "data": {
            "text/plain": [
              "0    Manhattan\n",
              "dtype: object"
            ]
          },
          "execution_count": 47,
          "metadata": {},
          "output_type": "execute_result"
        }
      ],
      "source": [
        "#'neighbourhood_group' column mode\n",
        "dataset['neighbourhood_group'].mode()"
      ]
    },
    {
      "cell_type": "markdown",
      "metadata": {
        "id": "UOvrO7otzxyD"
      },
      "source": [
        "#Split the data\n",
        "* Split your data in train/val/test sets, with 60%/20%/20% distribution.\n",
        "* Use Scikit-Learn for that (the train_test_split function) and set the seed to 42.\n",
        "* Make sure that the target value ('price') is not in your dataframe."
      ]
    },
    {
      "cell_type": "code",
      "execution_count": 48,
      "metadata": {
        "id": "IGoqMDR8zk0L"
      },
      "outputs": [],
      "source": [
        "#split data into X and y variables \n",
        "X = dataset.iloc[:, :-1]\n",
        "y = dataset.iloc[:,-1]"
      ]
    },
    {
      "cell_type": "code",
      "execution_count": 49,
      "metadata": {
        "id": "PokbwUPi1Pqn"
      },
      "outputs": [],
      "source": [
        "#Split your data in train/val/test sets, with 60%/20%/20% distribution.\n",
        "#Use Scikit-Learn for that (the train_test_split function) and set the seed to 42.\n",
        "from sklearn.model_selection import train_test_split\n",
        "X_train, X_test, y_train, y_test = train_test_split(X, y, test_size=.40, random_state=42, shuffle= True)\n",
        "X_test, X_validation, y_test, y_validataion = train_test_split(X_test, y_test, test_size=.50, random_state=42, shuffle= True)"
      ]
    },
    {
      "cell_type": "markdown",
      "metadata": {
        "id": "Xj-Y6Drc2kYW"
      },
      "source": [
        "#Question 2\n",
        "* Create the correlation matrix for the numerical features of your train dataset.\n",
        "* In a correlation matrix, you compute the correlation coefficient between every pair of features in the dataset.\n",
        "* What are the two features that have the biggest correlation in this dataset?"
      ]
    },
    {
      "cell_type": "code",
      "execution_count": 50,
      "metadata": {
        "colab": {
          "base_uri": "https://localhost:8080/",
          "height": 411
        },
        "id": "v11og6io31NV",
        "outputId": "b4634bf3-895f-4b01-adef-273c267d1336"
      },
      "outputs": [
        {
          "data": {
            "image/png": "[encoded data removed]",
            "text/plain": [
              "<Figure size 432x288 with 2 Axes>"
            ]
          },
          "metadata": {
            "needs_background": "light"
          },
          "output_type": "display_data"
        }
      ],
      "source": [
        "#Correlation matrix\n",
        "matrix = X_train.corr()\n",
        "#Plot the correlation matrix with a heatmap\n",
        "sns.heatmap(matrix, annot=True)\n",
        "plt.show()"
      ]
    },
    {
      "cell_type": "markdown",
      "metadata": {
        "id": "hbwjvvVW3jSF"
      },
      "source": [
        "What are the two features that have the biggest correlation in this dataset?\n",
        "\n",
        "reviews_per_month and number_of_reviews"
      ]
    },
    {
      "cell_type": "markdown",
      "metadata": {
        "id": "FCFrfXwy4MZE"
      },
      "source": [
        "# Make price binary\n",
        "We need to turn the price variable from numeric into binary.\n",
        "Let's create a variable above_average which is 1 if the price is above (or equal to) 152."
      ]
    },
    {
      "cell_type": "code",
      "execution_count": 51,
      "metadata": {
        "id": "0rsPG4C_27IH"
      },
      "outputs": [],
      "source": [
        "#Function to turn the price variable from numeric into binary\n",
        "def price_binarization(price):\n",
        "  if price >= 152:\n",
        "    return 1\n",
        "  else:\n",
        "    return 0"
      ]
    },
    {
      "cell_type": "code",
      "execution_count": 52,
      "metadata": {
        "id": "tlRji7nS_orM"
      },
      "outputs": [],
      "source": [
        "#Applying price_binarization\n",
        "y_train = y_train.apply(price_binarization)\n",
        "y_test = y_test.apply(price_binarization)\n",
        "y_validataion = y_validataion.apply(price_binarization)"
      ]
    },
    {
      "cell_type": "markdown",
      "metadata": {
        "id": "WYsXLUm3AZ8R"
      },
      "source": [
        "# Question 3\n",
        "* Calculate the mutual information score with the (binarized) price for the two categorical variables that we have. Use the training set only.\n",
        "* Which of these two variables has bigger score?\n",
        "* Round it to 2 decimal digits using round(score, 2)"
      ]
    },
    {
      "cell_type": "code",
      "execution_count": 53,
      "metadata": {
        "colab": {
          "base_uri": "https://localhost:8080/"
        },
        "id": "YI6MTSPC_x6Q",
        "outputId": "668630a3-5eed-483e-9056-1fe0f0770b27"
      },
      "outputs": [
        {
          "data": {
            "text/plain": [
              "0.046407892226392196"
            ]
          },
          "execution_count": 53,
          "metadata": {},
          "output_type": "execute_result"
        }
      ],
      "source": [
        "#Calculate the mutual information score\n",
        "from sklearn.metrics import mutual_info_score\n",
        "mutual_info_score(y_train, X_train['neighbourhood_group'])"
      ]
    },
    {
      "cell_type": "code",
      "execution_count": 54,
      "metadata": {
        "colab": {
          "base_uri": "https://localhost:8080/"
        },
        "id": "IGCx9QlLCB10",
        "outputId": "a2337cd5-2eff-4942-82dc-759ae6654c80"
      },
      "outputs": [
        {
          "data": {
            "text/plain": [
              "0.1425382217595413"
            ]
          },
          "execution_count": 54,
          "metadata": {},
          "output_type": "execute_result"
        }
      ],
      "source": [
        "#Calculate the mutual information score\n",
        "mutual_info_score(y_train, X_train['room_type'])"
      ]
    },
    {
      "cell_type": "markdown",
      "metadata": {
        "id": "0ut_wvxFD7Zw"
      },
      "source": [
        "# Question 4\n",
        "* Now let's train a logistic regression\n",
        "* Remember that we have two categorical variables in the data. Include them using one-hot encoding.\n",
        "* Fit the model on the training dataset.\n",
        "* To make sure the results are reproducible across different versions of  \n",
        "* Scikit-Learn, fit the model with these parameters:\n",
        "model = LogisticRegression(solver='lbfgs', C=1.0, random_state=42)\n",
        "* Calculate the accuracy on the validation dataset and round it to 2 decimal digits."
      ]
    },
    {
      "cell_type": "code",
      "execution_count": 55,
      "metadata": {
        "id": "vqTNx8jJGgsT"
      },
      "outputs": [],
      "source": [
        "#Import DictVectorizer\n",
        "from sklearn.feature_extraction import DictVectorizer"
      ]
    },
    {
      "cell_type": "code",
      "execution_count": 56,
      "metadata": {
        "id": "M8rjY5XvON4W"
      },
      "outputs": [],
      "source": [
        "#Applying DictVectorizer in the trainset\n",
        "train_dict = X_train.to_dict(orient='records')\n",
        "\n",
        "dv = DictVectorizer(sparse=False)\n",
        "dv.fit(train_dict)\n",
        "\n",
        "X_train_q4 = dv.transform(train_dict)"
      ]
    },
    {
      "cell_type": "code",
      "execution_count": 57,
      "metadata": {
        "colab": {
          "base_uri": "https://localhost:8080/"
        },
        "id": "C3P7UhRKONyN",
        "outputId": "96419ab3-09e8-47e3-a590-cce75c585cc7"
      },
      "outputs": [
        {
          "name": "stderr",
          "output_type": "stream",
          "text": [
            "/usr/local/lib/python3.7/dist-packages/sklearn/linear_model/_logistic.py:818: ConvergenceWarning: lbfgs failed to converge (status=1):\n",
            "STOP: TOTAL NO. of ITERATIONS REACHED LIMIT.\n",
            "\n",
            "Increase the number of iterations (max_iter) or scale the data as shown in:\n",
            "    https://scikit-learn.org/stable/modules/preprocessing.html\n",
            "Please also refer to the documentation for alternative solver options:\n",
            "    https://scikit-learn.org/stable/modules/linear_model.html#logistic-regression\n",
            "  extra_warning_msg=_LOGISTIC_SOLVER_CONVERGENCE_MSG,\n"
          ]
        },
        {
          "data": {
            "text/plain": [
              "LogisticRegression(random_state=42)"
            ]
          },
          "execution_count": 57,
          "metadata": {},
          "output_type": "execute_result"
        }
      ],
      "source": [
        "#Fit the model on the training dataset.\n",
        "    #To make sure the results are reproducible across different versions of Scikit-Learn, fit the model with these parameters:\n",
        "    #model = LogisticRegression(solver='lbfgs', C=1.0, random_state=42)\n",
        "from sklearn.linear_model import LogisticRegression\n",
        "model = LogisticRegression(solver='lbfgs', C=1.0, random_state=42)\n",
        "model.fit(X_train_q4, y_train)"
      ]
    },
    {
      "cell_type": "code",
      "execution_count": 58,
      "metadata": {
        "id": "j071oSA6ONrQ"
      },
      "outputs": [],
      "source": [
        "#Calculate the accuracy on the validation dataset and round it to 2 decimal digits.\n",
        "#Transforming X_train categorical data\n",
        "validation_dict = X_validation.to_dict(orient='records')\n",
        "dv = DictVectorizer(sparse=False)\n",
        "dv.fit(validation_dict)\n",
        "X_validation_q4 = dv.transform(validation_dict)\n",
        "#Making predictions\n",
        "y_pred = model.predict(X_validation_q4)\n"
      ]
    },
    {
      "cell_type": "code",
      "execution_count": 59,
      "metadata": {
        "colab": {
          "base_uri": "https://localhost:8080/"
        },
        "id": "UhZ7eiLxTWYX",
        "outputId": "1c50e9dd-10ba-44c7-a035-471e62fd590f"
      },
      "outputs": [
        {
          "data": {
            "text/plain": [
              "0.79"
            ]
          },
          "execution_count": 59,
          "metadata": {},
          "output_type": "execute_result"
        }
      ],
      "source": [
        "#Calculating the accuracy\n",
        "from sklearn.metrics import accuracy_score\n",
        "np.round(accuracy_score(y_validataion, y_pred),2)"
      ]
    },
    {
      "cell_type": "markdown",
      "metadata": {
        "id": "cuJ_VkWhU9PM"
      },
      "source": [
        "# Question 5\n",
        "* We have 9 features: 7 numerical features and 2 categorical.\n",
        "* Let's find the least useful one using the feature elimination technique.\n",
        "* Train a model with all these features (using the same parameters as in Q4).\n",
        "* Now exclude each feature from this set and train a model without it. Record the accuracy for each model.\n",
        "* For each feature, calculate the difference between the original accuracy and the accuracy without the feature.\n",
        "* Which of following feature has the smallest difference?\n",
        "> * neighbourhood_group\n",
        "> * room_type\n",
        "> * number_of_reviews\n",
        "> * reviews_per_month\n",
        "\n",
        "\n",
        "note: the difference doesn't have to be positive"
      ]
    },
    {
      "cell_type": "code",
      "execution_count": 60,
      "metadata": {
        "colab": {
          "base_uri": "https://localhost:8080/"
        },
        "id": "W5__iMgYU9pr",
        "outputId": "d9707177-7480-4fc9-aa4d-ac0b20c22e45"
      },
      "outputs": [
        {
          "name": "stderr",
          "output_type": "stream",
          "text": [
            "/usr/local/lib/python3.7/dist-packages/sklearn/linear_model/_logistic.py:818: ConvergenceWarning: lbfgs failed to converge (status=1):\n",
            "STOP: TOTAL NO. of ITERATIONS REACHED LIMIT.\n",
            "\n",
            "Increase the number of iterations (max_iter) or scale the data as shown in:\n",
            "    https://scikit-learn.org/stable/modules/preprocessing.html\n",
            "Please also refer to the documentation for alternative solver options:\n",
            "    https://scikit-learn.org/stable/modules/linear_model.html#logistic-regression\n",
            "  extra_warning_msg=_LOGISTIC_SOLVER_CONVERGENCE_MSG,\n"
          ]
        },
        {
          "data": {
            "text/plain": [
              "0.79"
            ]
          },
          "execution_count": 60,
          "metadata": {},
          "output_type": "execute_result"
        }
      ],
      "source": [
        "# Train a model with all these features (using the same parameters as in Q4).\n",
        "from sklearn.linear_model import LogisticRegression\n",
        "model = LogisticRegression(solver='lbfgs', C=1.0, random_state=42)\n",
        "model.fit(X_train_q4, y_train)\n",
        "y_pred = model.predict(X_validation_q4)\n",
        "np.round(accuracy_score(y_validataion, y_pred),2)"
      ]
    },
    {
      "cell_type": "code",
      "execution_count": 61,
      "metadata": {
        "id": "5QVR9eMBacXs"
      },
      "outputs": [],
      "source": [
        "#List of X features\n",
        "X_features = ['neighbourhood_group', 'room_type', 'latitude', 'longitude','minimum_nights', 'number_of_reviews', 'reviews_per_month', 'calculated_host_listings_count', 'availability_365']"
      ]
    },
    {
      "cell_type": "code",
      "execution_count": 62,
      "metadata": {
        "colab": {
          "base_uri": "https://localhost:8080/"
        },
        "id": "BSQ-eqHV9vI2",
        "outputId": "78fb0773-a9a4-4191-9d33-4b81e4141ab3"
      },
      "outputs": [
        {
          "name": "stdout",
          "output_type": "stream",
          "text": [
            "model trained without  neighbourhood_group feature\n",
            "accuracy deference  0.040000000000000036 \n",
            "\n",
            "model trained without  room_type feature\n",
            "accuracy deference  0.06000000000000005 \n",
            "\n",
            "model trained without  latitude feature\n",
            "accuracy deference  0.0 \n",
            "\n",
            "model trained without  longitude feature\n",
            "accuracy deference  0.0 \n",
            "\n",
            "model trained without  minimum_nights feature\n",
            "accuracy deference  -0.010000000000000009 \n",
            "\n",
            "model trained without  number_of_reviews feature\n",
            "accuracy deference  -0.010000000000000009 \n",
            "\n",
            "model trained without  reviews_per_month feature\n",
            "accuracy deference  -0.010000000000000009 \n",
            "\n",
            "model trained without  calculated_host_listings_count feature\n",
            "accuracy deference  -0.010000000000000009 \n",
            "\n",
            "model trained without  availability_365 feature\n",
            "accuracy deference  0.0 \n",
            "\n"
          ]
        }
      ],
      "source": [
        "for column in X_features:\n",
        "  #Preparing X_train set\n",
        "  X_train_set = X_train.drop([column], axis=1)\n",
        "  train_dict = X_train_set.to_dict(orient='records')\n",
        "  dv = DictVectorizer(sparse=False)\n",
        "  dv.fit(train_dict)\n",
        "  X_train_set = dv.transform(train_dict)\n",
        "\n",
        "  #Preparing X_validation set\n",
        "  X_validation_set = X_validation.drop([column], axis=1)\n",
        "  validation_dict = X_validation_set.to_dict(orient='records')\n",
        "  dv = DictVectorizer(sparse=False)\n",
        "  dv.fit(validation_dict)\n",
        "  X_validation_set = dv.transform(validation_dict)\n",
        "\n",
        "  #Training logistic regression model\n",
        "  model = LogisticRegression(solver='lbfgs', C=1.0, random_state=42, max_iter=2000)\n",
        "  model.fit(X_train_set, y_train)\n",
        "\n",
        "  #Making predictions \n",
        "  y_pred = model.predict(X_validation_set)\n",
        "  accuracy = np.round(accuracy_score(y_validataion, y_pred),2)\n",
        "  print('model trained without ', column, 'feature')\n",
        "  print('accuracy deference ', .79 - accuracy, '\\n')\n",
        "  "
      ]
    },
    {
      "cell_type": "markdown",
      "metadata": {
        "id": "9mFw_xaZGSff"
      },
      "source": [
        "Which feature has the smallest difference?\n",
        "\n",
        "number_of_reviews and reviews_per_month"
      ]
    },
    {
      "cell_type": "markdown",
      "metadata": {
        "id": "UqYenGyhGtxO"
      },
      "source": [
        "# Question 6\n",
        "* For this question, we'll see how to use a linear regression model from Scikit-Learn\n",
        "* We'll need to use the original column 'price'. Apply the logarithmic transformation to this column.\n",
        "* Fit the Ridge regression model on the training data.\n",
        "* This model has a parameter alpha. Let's try the following values: [0, 0.01, 0.1, 1, 10]\n",
        "* Which of these alphas leads to the best RMSE on the validation set? Round your RMSE scores to 3 decimal digits.\n",
        "\n",
        "If there are multiple options, select the smallest alpha."
      ]
    },
    {
      "cell_type": "code",
      "execution_count": 95,
      "metadata": {
        "id": "a32ShcVJLrqR"
      },
      "outputs": [],
      "source": [
        "#Split data into X and y variables \n",
        "X = dataset.iloc[:, :-1]\n",
        "y = dataset.iloc[:,-1].values"
      ]
    },
    {
      "cell_type": "code",
      "execution_count": 96,
      "metadata": {
        "id": "-9maqZPyIyR0"
      },
      "outputs": [],
      "source": [
        "#We'll need to use the original column 'price'. Apply the logarithmic transformation to this column.\n",
        "y = np.log1p(y)"
      ]
    },
    {
      "cell_type": "code",
      "execution_count": 97,
      "metadata": {
        "id": "oUBG6j3_G8g7"
      },
      "outputs": [],
      "source": [
        "#Split your data in train/val/test sets, with 60%/20%/20% distribution.\n",
        "#Use Scikit-Learn for that (the train_test_split function) and set the seed to 42.\n",
        "from sklearn.model_selection import train_test_split\n",
        "X_train, X_test, y_train, y_test = train_test_split(X, y, test_size=.40, random_state=42, shuffle= True)\n",
        "X_test, X_validation, y_test, y_validataion = train_test_split(X_test, y_test, test_size=.50, random_state=42, shuffle= True)"
      ]
    },
    {
      "cell_type": "code",
      "execution_count": 98,
      "metadata": {
        "id": "N5BaD319JjWL"
      },
      "outputs": [],
      "source": [
        "#Preparing X_train set \n",
        "train_dict = X_train.to_dict(orient='records')\n",
        "dv = DictVectorizer(sparse=False)\n",
        "dv.fit(train_dict)\n",
        "X_train = dv.transform(train_dict)\n",
        "\n",
        "\n",
        "#Preparing X_validation set\n",
        "validation_dict = X_validation.to_dict(orient='records')\n",
        "dv = DictVectorizer(sparse=False)\n",
        "dv.fit(validation_dict)\n",
        "X_validation = dv.transform(validation_dict)"
      ]
    },
    {
      "cell_type": "code",
      "execution_count": 99,
      "metadata": {
        "colab": {
          "base_uri": "https://localhost:8080/"
        },
        "id": "9OomJf4lHaHO",
        "outputId": "bd68e311-e9c1-4358-fbd2-17e0c593b6a6"
      },
      "outputs": [
        {
          "name": "stdout",
          "output_type": "stream",
          "text": [
            "model training with alpha 0 \n",
            "\n",
            "mean square error 0.2422083671959404\n",
            "model training with alpha 0.01 \n",
            "\n",
            "mean square error 0.24219330372421957\n",
            "model training with alpha 0.1 \n",
            "\n",
            "mean square error 0.242191966605967\n",
            "model training with alpha 1 \n",
            "\n",
            "mean square error 0.2421915871959915\n",
            "model training with alpha 10 \n",
            "\n",
            "mean square error 0.2428300163454271\n"
          ]
        }
      ],
      "source": [
        "#Training a Ridge regression model using [0, 0.01, 0.1, 1, 10] like a alpha values\n",
        "from sklearn.linear_model import Ridge\n",
        "from sklearn.metrics import mean_squared_error\n",
        "alpha_values = [0, 0.01, 0.1, 1, 10]\n",
        "\n",
        "for alpha_value in alpha_values:\n",
        "  model = Ridge(alpha= alpha_value)\n",
        "  model.fit(X_train, y_train)\n",
        "  y_pred = model.predict(X_validation)\n",
        "  msr = mean_squared_error(y_validataion, y_pred)\n",
        "  \n",
        "  print('model training with alpha', alpha_value, '\\n')\n",
        "  print('mean square error', msr )\n",
        "\n",
        "\n",
        "\n"
      ]
    },
    {
      "cell_type": "code",
      "execution_count": 99,
      "metadata": {
        "id": "k2M8Ixls37gp"
      },
      "outputs": [],
      "source": []
    }
  ],
  "metadata": {
    "colab": {
      "name": "Week 3.ipynb",
      "provenance": []
    },
    "kernelspec": {
      "display_name": "Python 3",
      "name": "python3"
    },
    "language_info": {
      "name": "python"
    }
  },
  "nbformat": 4,
  "nbformat_minor": 0
}
