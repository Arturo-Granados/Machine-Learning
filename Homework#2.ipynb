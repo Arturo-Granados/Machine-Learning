{
  "cells": [
    {
      "cell_type": "markdown",
      "metadata": {
        "id": "NQRBDR-mCAJR"
      },
      "source": [
        "#Setup "
      ]
    },
    {
      "cell_type": "code",
      "execution_count": null,
      "metadata": {
        "id": "EpNFWbjuBkgQ"
      },
      "outputs": [],
      "source": [
        "#Import important libraries\n",
        "import pandas as pd\n",
        "import numpy as np\n",
        "import matplotlib.pyplot as plt\n",
        "import seaborn as sns "
      ]
    },
    {
      "cell_type": "code",
      "execution_count": null,
      "metadata": {
        "colab": {
          "base_uri": "https://localhost:8080/"
        },
        "id": "9XeqRi2AB-As",
        "outputId": "291ef2d4-87c3-4773-fbf1-c8a342eae8f0"
      },
      "outputs": [
        {
          "name": "stdout",
          "output_type": "stream",
          "text": [
            "Looking in indexes: https://pypi.org/simple, https://us-python.pkg.dev/colab-wheels/public/simple/\n",
            "Requirement already satisfied: kaggle in /usr/local/lib/python3.7/dist-packages (1.5.12)\n",
            "Requirement already satisfied: six>=1.10 in /usr/local/lib/python3.7/dist-packages (from kaggle) (1.15.0)\n",
            "Requirement already satisfied: requests in /usr/local/lib/python3.7/dist-packages (from kaggle) (2.23.0)\n",
            "Requirement already satisfied: python-dateutil in /usr/local/lib/python3.7/dist-packages (from kaggle) (2.8.2)\n",
            "Requirement already satisfied: urllib3 in /usr/local/lib/python3.7/dist-packages (from kaggle) (1.24.3)\n",
            "Requirement already satisfied: tqdm in /usr/local/lib/python3.7/dist-packages (from kaggle) (4.64.0)\n",
            "Requirement already satisfied: python-slugify in /usr/local/lib/python3.7/dist-packages (from kaggle) (6.1.2)\n",
            "Requirement already satisfied: certifi in /usr/local/lib/python3.7/dist-packages (from kaggle) (2022.6.15)\n",
            "Requirement already satisfied: text-unidecode>=1.3 in /usr/local/lib/python3.7/dist-packages (from python-slugify->kaggle) (1.3)\n",
            "Requirement already satisfied: chardet<4,>=3.0.2 in /usr/local/lib/python3.7/dist-packages (from requests->kaggle) (3.0.4)\n",
            "Requirement already satisfied: idna<3,>=2.5 in /usr/local/lib/python3.7/dist-packages (from requests->kaggle) (2.10)\n"
          ]
        }
      ],
      "source": [
        "#Instaling Kaggle to get access to data\n",
        "!pip install kaggle "
      ]
    },
    {
      "cell_type": "code",
      "execution_count": null,
      "metadata": {
        "id": "wzfM9-2UB9-J"
      },
      "outputs": [],
      "source": [
        "#Api token to get access to kaggle datasets\n",
        "from google.colab import files\n",
        "files.upload()"
      ]
    },
    {
      "cell_type": "code",
      "execution_count": null,
      "metadata": {
        "colab": {
          "base_uri": "https://localhost:8080/"
        },
        "id": "Y02F8vekB97B",
        "outputId": "03a151ad-ca97-4491-af1f-9f9d28569efd"
      },
      "outputs": [
        {
          "name": "stdout",
          "output_type": "stream",
          "text": [
            "/content\n"
          ]
        }
      ],
      "source": [
        "#Directory\n",
        "!pwd"
      ]
    },
    {
      "cell_type": "code",
      "execution_count": null,
      "metadata": {
        "id": "LuDdnIgJB938"
      },
      "outputs": [],
      "source": [
        "#Directory configuration\n",
        "import os \n",
        "os.environ['KAGGLE_CONFIG_DIR'] = '/content'"
      ]
    },
    {
      "cell_type": "code",
      "execution_count": null,
      "metadata": {
        "colab": {
          "base_uri": "https://localhost:8080/"
        },
        "id": "9Z47ZBBhB9u9",
        "outputId": "804c4e82-f833-40f9-892e-df5495b50e96"
      },
      "outputs": [
        {
          "name": "stdout",
          "output_type": "stream",
          "text": [
            "Warning: Your Kaggle API key is readable by other users on this system! To fix this, you can run 'chmod 600 /content/kaggle.json'\n",
            "Downloading new-york-city-airbnb-open-data.zip to /content\n",
            "  0% 0.00/2.44M [00:00<?, ?B/s]\n",
            "100% 2.44M/2.44M [00:00<00:00, 113MB/s]\n"
          ]
        }
      ],
      "source": [
        "#download the data\n",
        "!kaggle datasets download -d dgomonov/new-york-city-airbnb-open-data"
      ]
    },
    {
      "cell_type": "code",
      "execution_count": null,
      "metadata": {
        "id": "xhif_xmFB909"
      },
      "outputs": [],
      "source": [
        "#function to extrac files from a .zip file\n",
        "from zipfile import ZipFile \n",
        "\n",
        "def open_zipfile(file_name):\n",
        "  with ZipFile(file_name, 'r') as zip:\n",
        "    \n",
        "    zip.printdir()\n",
        "    zip.extractall()\n",
        "  "
      ]
    },
    {
      "cell_type": "code",
      "execution_count": null,
      "metadata": {
        "colab": {
          "base_uri": "https://localhost:8080/"
        },
        "id": "NP3YYW_zCm5C",
        "outputId": "ef0901c5-b3b4-4b5a-ab5a-ab92ed404de9"
      },
      "outputs": [
        {
          "name": "stdout",
          "output_type": "stream",
          "text": [
            "File Name                                             Modified             Size\n",
            "AB_NYC_2019.csv                                2019-10-27 22:06:18      7077973\n",
            "New_York_City_.png                             2019-10-27 22:06:20       192340\n"
          ]
        }
      ],
      "source": [
        "#apply open_zipfile funtion \n",
        "open_zipfile('new-york-city-airbnb-open-data.zip')"
      ]
    },
    {
      "cell_type": "code",
      "execution_count": null,
      "metadata": {
        "id": "lWtMGojeCm2c"
      },
      "outputs": [],
      "source": [
        "#Read the csv file with pandas\n",
        "dataset = pd.read_csv('AB_NYC_2019.csv')"
      ]
    },
    {
      "cell_type": "code",
      "execution_count": null,
      "metadata": {
        "colab": {
          "base_uri": "https://localhost:8080/",
          "height": 302
        },
        "id": "Xe4LfuTGCmzs",
        "outputId": "6a769b93-48af-4b0b-ba04-8c716fc664b7"
      },
      "outputs": [
        {
          "data": {
            "text/html": [
              "\n",
              "  <div id=\"df-4157da21-3ada-498b-8dd0-d57d807cb853\">\n",
              "    <div class=\"colab-df-container\">\n",
              "      <div>\n",
              "<style scoped>\n",
              "    .dataframe tbody tr th:only-of-type {\n",
              "        vertical-align: middle;\n",
              "    }\n",
              "\n",
              "    .dataframe tbody tr th {\n",
              "        vertical-align: top;\n",
              "    }\n",
              "\n",
              "    .dataframe thead th {\n",
              "        text-align: right;\n",
              "    }\n",
              "</style>\n",
              "<table border=\"1\" class=\"dataframe\">\n",
              "  <thead>\n",
              "    <tr style=\"text-align: right;\">\n",
              "      <th></th>\n",
              "      <th>id</th>\n",
              "      <th>name</th>\n",
              "      <th>host_id</th>\n",
              "      <th>host_name</th>\n",
              "      <th>neighbourhood_group</th>\n",
              "      <th>neighbourhood</th>\n",
              "      <th>latitude</th>\n",
              "      <th>longitude</th>\n",
              "      <th>room_type</th>\n",
              "      <th>price</th>\n",
              "      <th>minimum_nights</th>\n",
              "      <th>number_of_reviews</th>\n",
              "      <th>last_review</th>\n",
              "      <th>reviews_per_month</th>\n",
              "      <th>calculated_host_listings_count</th>\n",
              "      <th>availability_365</th>\n",
              "    </tr>\n",
              "  </thead>\n",
              "  <tbody>\n",
              "    <tr>\n",
              "      <th>0</th>\n",
              "      <td>2539</td>\n",
              "      <td>Clean &amp; quiet apt home by the park</td>\n",
              "      <td>2787</td>\n",
              "      <td>John</td>\n",
              "      <td>Brooklyn</td>\n",
              "      <td>Kensington</td>\n",
              "      <td>40.64749</td>\n",
              "      <td>-73.97237</td>\n",
              "      <td>Private room</td>\n",
              "      <td>149</td>\n",
              "      <td>1</td>\n",
              "      <td>9</td>\n",
              "      <td>2018-10-19</td>\n",
              "      <td>0.21</td>\n",
              "      <td>6</td>\n",
              "      <td>365</td>\n",
              "    </tr>\n",
              "    <tr>\n",
              "      <th>1</th>\n",
              "      <td>2595</td>\n",
              "      <td>Skylit Midtown Castle</td>\n",
              "      <td>2845</td>\n",
              "      <td>Jennifer</td>\n",
              "      <td>Manhattan</td>\n",
              "      <td>Midtown</td>\n",
              "      <td>40.75362</td>\n",
              "      <td>-73.98377</td>\n",
              "      <td>Entire home/apt</td>\n",
              "      <td>225</td>\n",
              "      <td>1</td>\n",
              "      <td>45</td>\n",
              "      <td>2019-05-21</td>\n",
              "      <td>0.38</td>\n",
              "      <td>2</td>\n",
              "      <td>355</td>\n",
              "    </tr>\n",
              "    <tr>\n",
              "      <th>2</th>\n",
              "      <td>3647</td>\n",
              "      <td>THE VILLAGE OF HARLEM....NEW YORK !</td>\n",
              "      <td>4632</td>\n",
              "      <td>Elisabeth</td>\n",
              "      <td>Manhattan</td>\n",
              "      <td>Harlem</td>\n",
              "      <td>40.80902</td>\n",
              "      <td>-73.94190</td>\n",
              "      <td>Private room</td>\n",
              "      <td>150</td>\n",
              "      <td>3</td>\n",
              "      <td>0</td>\n",
              "      <td>NaN</td>\n",
              "      <td>NaN</td>\n",
              "      <td>1</td>\n",
              "      <td>365</td>\n",
              "    </tr>\n",
              "    <tr>\n",
              "      <th>3</th>\n",
              "      <td>3831</td>\n",
              "      <td>Cozy Entire Floor of Brownstone</td>\n",
              "      <td>4869</td>\n",
              "      <td>LisaRoxanne</td>\n",
              "      <td>Brooklyn</td>\n",
              "      <td>Clinton Hill</td>\n",
              "      <td>40.68514</td>\n",
              "      <td>-73.95976</td>\n",
              "      <td>Entire home/apt</td>\n",
              "      <td>89</td>\n",
              "      <td>1</td>\n",
              "      <td>270</td>\n",
              "      <td>2019-07-05</td>\n",
              "      <td>4.64</td>\n",
              "      <td>1</td>\n",
              "      <td>194</td>\n",
              "    </tr>\n",
              "    <tr>\n",
              "      <th>4</th>\n",
              "      <td>5022</td>\n",
              "      <td>Entire Apt: Spacious Studio/Loft by central park</td>\n",
              "      <td>7192</td>\n",
              "      <td>Laura</td>\n",
              "      <td>Manhattan</td>\n",
              "      <td>East Harlem</td>\n",
              "      <td>40.79851</td>\n",
              "      <td>-73.94399</td>\n",
              "      <td>Entire home/apt</td>\n",
              "      <td>80</td>\n",
              "      <td>10</td>\n",
              "      <td>9</td>\n",
              "      <td>2018-11-19</td>\n",
              "      <td>0.10</td>\n",
              "      <td>1</td>\n",
              "      <td>0</td>\n",
              "    </tr>\n",
              "  </tbody>\n",
              "</table>\n",
              "</div>\n",
              "      <button class=\"colab-df-convert\" onclick=\"convertToInteractive('df-4157da21-3ada-498b-8dd0-d57d807cb853')\"\n",
              "              title=\"Convert this dataframe to an interactive table.\"\n",
              "              style=\"display:none;\">\n",
              "        \n",
              "  <svg xmlns=\"http://www.w3.org/2000/svg\" height=\"24px\"viewBox=\"0 0 24 24\"\n",
              "       width=\"24px\">\n",
              "    <path d=\"M0 0h24v24H0V0z\" fill=\"none\"/>\n",
              "    <path d=\"M18.56 5.44l.94 2.06.94-2.06 2.06-.94-2.06-.94-.94-2.06-.94 2.06-2.06.94zm-11 1L8.5 8.5l.94-2.06 2.06-.94-2.06-.94L8.5 2.5l-.94 2.06-2.06.94zm10 10l.94 2.06.94-2.06 2.06-.94-2.06-.94-.94-2.06-.94 2.06-2.06.94z\"/><path d=\"M17.41 7.96l-1.37-1.37c-.4-.4-.92-.59-1.43-.59-.52 0-1.04.2-1.43.59L10.3 9.45l-7.72 7.72c-.78.78-.78 2.05 0 2.83L4 21.41c.39.39.9.59 1.41.59.51 0 1.02-.2 1.41-.59l7.78-7.78 2.81-2.81c.8-.78.8-2.07 0-2.86zM5.41 20L4 18.59l7.72-7.72 1.47 1.35L5.41 20z\"/>\n",
              "  </svg>\n",
              "      </button>\n",
              "      \n",
              "  <style>\n",
              "    .colab-df-container {\n",
              "      display:flex;\n",
              "      flex-wrap:wrap;\n",
              "      gap: 12px;\n",
              "    }\n",
              "\n",
              "    .colab-df-convert {\n",
              "      background-color: #E8F0FE;\n",
              "      border: none;\n",
              "      border-radius: 50%;\n",
              "      cursor: pointer;\n",
              "      display: none;\n",
              "      fill: #1967D2;\n",
              "      height: 32px;\n",
              "      padding: 0 0 0 0;\n",
              "      width: 32px;\n",
              "    }\n",
              "\n",
              "    .colab-df-convert:hover {\n",
              "      background-color: #E2EBFA;\n",
              "      box-shadow: 0px 1px 2px rgba(60, 64, 67, 0.3), 0px 1px 3px 1px rgba(60, 64, 67, 0.15);\n",
              "      fill: #174EA6;\n",
              "    }\n",
              "\n",
              "    [theme=dark] .colab-df-convert {\n",
              "      background-color: #3B4455;\n",
              "      fill: #D2E3FC;\n",
              "    }\n",
              "\n",
              "    [theme=dark] .colab-df-convert:hover {\n",
              "      background-color: #434B5C;\n",
              "      box-shadow: 0px 1px 3px 1px rgba(0, 0, 0, 0.15);\n",
              "      filter: drop-shadow(0px 1px 2px rgba(0, 0, 0, 0.3));\n",
              "      fill: #FFFFFF;\n",
              "    }\n",
              "  </style>\n",
              "\n",
              "      <script>\n",
              "        const buttonEl =\n",
              "          document.querySelector('#df-4157da21-3ada-498b-8dd0-d57d807cb853 button.colab-df-convert');\n",
              "        buttonEl.style.display =\n",
              "          google.colab.kernel.accessAllowed ? 'block' : 'none';\n",
              "\n",
              "        async function convertToInteractive(key) {\n",
              "          const element = document.querySelector('#df-4157da21-3ada-498b-8dd0-d57d807cb853');\n",
              "          const dataTable =\n",
              "            await google.colab.kernel.invokeFunction('convertToInteractive',\n",
              "                                                     [key], {});\n",
              "          if (!dataTable) return;\n",
              "\n",
              "          const docLinkHtml = 'Like what you see? Visit the ' +\n",
              "            '<a target=\"_blank\" href=https://colab.research.google.com/notebooks/data_table.ipynb>data table notebook</a>'\n",
              "            + ' to learn more about interactive tables.';\n",
              "          element.innerHTML = '';\n",
              "          dataTable['output_type'] = 'display_data';\n",
              "          await google.colab.output.renderOutput(dataTable, element);\n",
              "          const docLink = document.createElement('div');\n",
              "          docLink.innerHTML = docLinkHtml;\n",
              "          element.appendChild(docLink);\n",
              "        }\n",
              "      </script>\n",
              "    </div>\n",
              "  </div>\n",
              "  "
            ],
            "text/plain": [
              "     id                                              name  host_id  \\\n",
              "0  2539                Clean & quiet apt home by the park     2787   \n",
              "1  2595                             Skylit Midtown Castle     2845   \n",
              "2  3647               THE VILLAGE OF HARLEM....NEW YORK !     4632   \n",
              "3  3831                   Cozy Entire Floor of Brownstone     4869   \n",
              "4  5022  Entire Apt: Spacious Studio/Loft by central park     7192   \n",
              "\n",
              "     host_name neighbourhood_group neighbourhood  latitude  longitude  \\\n",
              "0         John            Brooklyn    Kensington  40.64749  -73.97237   \n",
              "1     Jennifer           Manhattan       Midtown  40.75362  -73.98377   \n",
              "2    Elisabeth           Manhattan        Harlem  40.80902  -73.94190   \n",
              "3  LisaRoxanne            Brooklyn  Clinton Hill  40.68514  -73.95976   \n",
              "4        Laura           Manhattan   East Harlem  40.79851  -73.94399   \n",
              "\n",
              "         room_type  price  minimum_nights  number_of_reviews last_review  \\\n",
              "0     Private room    149               1                  9  2018-10-19   \n",
              "1  Entire home/apt    225               1                 45  2019-05-21   \n",
              "2     Private room    150               3                  0         NaN   \n",
              "3  Entire home/apt     89               1                270  2019-07-05   \n",
              "4  Entire home/apt     80              10                  9  2018-11-19   \n",
              "\n",
              "   reviews_per_month  calculated_host_listings_count  availability_365  \n",
              "0               0.21                               6               365  \n",
              "1               0.38                               2               355  \n",
              "2                NaN                               1               365  \n",
              "3               4.64                               1               194  \n",
              "4               0.10                               1                 0  "
            ]
          },
          "execution_count": 10,
          "metadata": {},
          "output_type": "execute_result"
        }
      ],
      "source": [
        "#Dataset structure visualization\n",
        "dataset.head()"
      ]
    },
    {
      "cell_type": "markdown",
      "metadata": {
        "id": "7IoRgX-GDYe8"
      },
      "source": [
        "#EDA\n",
        "\n",
        "Look at the price variable. Does it have a long tail?"
      ]
    },
    {
      "cell_type": "code",
      "execution_count": null,
      "metadata": {
        "colab": {
          "base_uri": "https://localhost:8080/",
          "height": 291
        },
        "id": "Gs-dRUxJxSCM",
        "outputId": "9437ae26-8fda-4e85-b63b-a3a2dfa69729"
      },
      "outputs": [
        {
          "data": {
            "image/png": "[encoded data removed]",
            "text/plain": [
              "<Figure size 720x936 with 1 Axes>"
            ]
          },
          "metadata": {},
          "output_type": "display_data"
        }
      ],
      "source": [
        "#Price variable histogram\n",
        "plt.figure(figsize=(10,13))\n",
        "sns.set(font_scale = 1, style = 'darkgrid')\n",
        "ax= [None for _ in range(1)]\n",
        "\n",
        "ax[0] = plt.subplot2grid((3,4), (0,0), colspan = 2)\n",
        "\n",
        "\n",
        "sns.histplot(data= dataset[dataset['price']< 4000], x = 'price',color = 'purple', alpha = 0.5 , binwidth = 100,kde = True, ax=ax[0])\n",
        "ax[0].set_title('Price')\n",
        "plt.show()"
      ]
    },
    {
      "cell_type": "markdown",
      "metadata": {
        "id": "Na6HQLJpEgpc"
      },
      "source": [
        "#Features\n",
        "For the rest of the homework, you'll need to use only these columns:\n",
        "\n",
        "* 'latitude',\n",
        "* 'longitude',\n",
        "* 'price',\n",
        "* 'minimum_nights',\n",
        "* 'number_of_reviews',\n",
        "* 'reviews_per_month',\n",
        "* 'calculated_host_listings_count',\n",
        "* 'availability_365'\n",
        "\n",
        "Select only them."
      ]
    },
    {
      "cell_type": "code",
      "execution_count": null,
      "metadata": {
        "id": "R_9t2tTZDuQ3"
      },
      "outputs": [],
      "source": [
        "#Important columns list\n",
        "important_columns = ['latitude','longitude','price','minimum_nights','number_of_reviews','reviews_per_month','calculated_host_listings_count','availability_365']\n",
        "#Selection columns in the dataset\n",
        "dataset = dataset[important_columns]"
      ]
    },
    {
      "cell_type": "code",
      "execution_count": null,
      "metadata": {
        "colab": {
          "base_uri": "https://localhost:8080/",
          "height": 206
        },
        "id": "3NQk21_3FDuJ",
        "outputId": "926fc461-e625-4dbc-a7bc-a683b5b2bce2"
      },
      "outputs": [
        {
          "data": {
            "text/html": [
              "\n",
              "  <div id=\"df-18d470b8-727c-4481-b425-1c9eaa79590a\">\n",
              "    <div class=\"colab-df-container\">\n",
              "      <div>\n",
              "<style scoped>\n",
              "    .dataframe tbody tr th:only-of-type {\n",
              "        vertical-align: middle;\n",
              "    }\n",
              "\n",
              "    .dataframe tbody tr th {\n",
              "        vertical-align: top;\n",
              "    }\n",
              "\n",
              "    .dataframe thead th {\n",
              "        text-align: right;\n",
              "    }\n",
              "</style>\n",
              "<table border=\"1\" class=\"dataframe\">\n",
              "  <thead>\n",
              "    <tr style=\"text-align: right;\">\n",
              "      <th></th>\n",
              "      <th>latitude</th>\n",
              "      <th>longitude</th>\n",
              "      <th>price</th>\n",
              "      <th>minimum_nights</th>\n",
              "      <th>number_of_reviews</th>\n",
              "      <th>reviews_per_month</th>\n",
              "      <th>calculated_host_listings_count</th>\n",
              "      <th>availability_365</th>\n",
              "    </tr>\n",
              "  </thead>\n",
              "  <tbody>\n",
              "    <tr>\n",
              "      <th>0</th>\n",
              "      <td>40.64749</td>\n",
              "      <td>-73.97237</td>\n",
              "      <td>149</td>\n",
              "      <td>1</td>\n",
              "      <td>9</td>\n",
              "      <td>0.21</td>\n",
              "      <td>6</td>\n",
              "      <td>365</td>\n",
              "    </tr>\n",
              "    <tr>\n",
              "      <th>1</th>\n",
              "      <td>40.75362</td>\n",
              "      <td>-73.98377</td>\n",
              "      <td>225</td>\n",
              "      <td>1</td>\n",
              "      <td>45</td>\n",
              "      <td>0.38</td>\n",
              "      <td>2</td>\n",
              "      <td>355</td>\n",
              "    </tr>\n",
              "    <tr>\n",
              "      <th>2</th>\n",
              "      <td>40.80902</td>\n",
              "      <td>-73.94190</td>\n",
              "      <td>150</td>\n",
              "      <td>3</td>\n",
              "      <td>0</td>\n",
              "      <td>NaN</td>\n",
              "      <td>1</td>\n",
              "      <td>365</td>\n",
              "    </tr>\n",
              "    <tr>\n",
              "      <th>3</th>\n",
              "      <td>40.68514</td>\n",
              "      <td>-73.95976</td>\n",
              "      <td>89</td>\n",
              "      <td>1</td>\n",
              "      <td>270</td>\n",
              "      <td>4.64</td>\n",
              "      <td>1</td>\n",
              "      <td>194</td>\n",
              "    </tr>\n",
              "    <tr>\n",
              "      <th>4</th>\n",
              "      <td>40.79851</td>\n",
              "      <td>-73.94399</td>\n",
              "      <td>80</td>\n",
              "      <td>10</td>\n",
              "      <td>9</td>\n",
              "      <td>0.10</td>\n",
              "      <td>1</td>\n",
              "      <td>0</td>\n",
              "    </tr>\n",
              "  </tbody>\n",
              "</table>\n",
              "</div>\n",
              "      <button class=\"colab-df-convert\" onclick=\"convertToInteractive('df-18d470b8-727c-4481-b425-1c9eaa79590a')\"\n",
              "              title=\"Convert this dataframe to an interactive table.\"\n",
              "              style=\"display:none;\">\n",
              "        \n",
              "  <svg xmlns=\"http://www.w3.org/2000/svg\" height=\"24px\"viewBox=\"0 0 24 24\"\n",
              "       width=\"24px\">\n",
              "    <path d=\"M0 0h24v24H0V0z\" fill=\"none\"/>\n",
              "    <path d=\"M18.56 5.44l.94 2.06.94-2.06 2.06-.94-2.06-.94-.94-2.06-.94 2.06-2.06.94zm-11 1L8.5 8.5l.94-2.06 2.06-.94-2.06-.94L8.5 2.5l-.94 2.06-2.06.94zm10 10l.94 2.06.94-2.06 2.06-.94-2.06-.94-.94-2.06-.94 2.06-2.06.94z\"/><path d=\"M17.41 7.96l-1.37-1.37c-.4-.4-.92-.59-1.43-.59-.52 0-1.04.2-1.43.59L10.3 9.45l-7.72 7.72c-.78.78-.78 2.05 0 2.83L4 21.41c.39.39.9.59 1.41.59.51 0 1.02-.2 1.41-.59l7.78-7.78 2.81-2.81c.8-.78.8-2.07 0-2.86zM5.41 20L4 18.59l7.72-7.72 1.47 1.35L5.41 20z\"/>\n",
              "  </svg>\n",
              "      </button>\n",
              "      \n",
              "  <style>\n",
              "    .colab-df-container {\n",
              "      display:flex;\n",
              "      flex-wrap:wrap;\n",
              "      gap: 12px;\n",
              "    }\n",
              "\n",
              "    .colab-df-convert {\n",
              "      background-color: #E8F0FE;\n",
              "      border: none;\n",
              "      border-radius: 50%;\n",
              "      cursor: pointer;\n",
              "      display: none;\n",
              "      fill: #1967D2;\n",
              "      height: 32px;\n",
              "      padding: 0 0 0 0;\n",
              "      width: 32px;\n",
              "    }\n",
              "\n",
              "    .colab-df-convert:hover {\n",
              "      background-color: #E2EBFA;\n",
              "      box-shadow: 0px 1px 2px rgba(60, 64, 67, 0.3), 0px 1px 3px 1px rgba(60, 64, 67, 0.15);\n",
              "      fill: #174EA6;\n",
              "    }\n",
              "\n",
              "    [theme=dark] .colab-df-convert {\n",
              "      background-color: #3B4455;\n",
              "      fill: #D2E3FC;\n",
              "    }\n",
              "\n",
              "    [theme=dark] .colab-df-convert:hover {\n",
              "      background-color: #434B5C;\n",
              "      box-shadow: 0px 1px 3px 1px rgba(0, 0, 0, 0.15);\n",
              "      filter: drop-shadow(0px 1px 2px rgba(0, 0, 0, 0.3));\n",
              "      fill: #FFFFFF;\n",
              "    }\n",
              "  </style>\n",
              "\n",
              "      <script>\n",
              "        const buttonEl =\n",
              "          document.querySelector('#df-18d470b8-727c-4481-b425-1c9eaa79590a button.colab-df-convert');\n",
              "        buttonEl.style.display =\n",
              "          google.colab.kernel.accessAllowed ? 'block' : 'none';\n",
              "\n",
              "        async function convertToInteractive(key) {\n",
              "          const element = document.querySelector('#df-18d470b8-727c-4481-b425-1c9eaa79590a');\n",
              "          const dataTable =\n",
              "            await google.colab.kernel.invokeFunction('convertToInteractive',\n",
              "                                                     [key], {});\n",
              "          if (!dataTable) return;\n",
              "\n",
              "          const docLinkHtml = 'Like what you see? Visit the ' +\n",
              "            '<a target=\"_blank\" href=https://colab.research.google.com/notebooks/data_table.ipynb>data table notebook</a>'\n",
              "            + ' to learn more about interactive tables.';\n",
              "          element.innerHTML = '';\n",
              "          dataTable['output_type'] = 'display_data';\n",
              "          await google.colab.output.renderOutput(dataTable, element);\n",
              "          const docLink = document.createElement('div');\n",
              "          docLink.innerHTML = docLinkHtml;\n",
              "          element.appendChild(docLink);\n",
              "        }\n",
              "      </script>\n",
              "    </div>\n",
              "  </div>\n",
              "  "
            ],
            "text/plain": [
              "   latitude  longitude  price  minimum_nights  number_of_reviews  \\\n",
              "0  40.64749  -73.97237    149               1                  9   \n",
              "1  40.75362  -73.98377    225               1                 45   \n",
              "2  40.80902  -73.94190    150               3                  0   \n",
              "3  40.68514  -73.95976     89               1                270   \n",
              "4  40.79851  -73.94399     80              10                  9   \n",
              "\n",
              "   reviews_per_month  calculated_host_listings_count  availability_365  \n",
              "0               0.21                               6               365  \n",
              "1               0.38                               2               355  \n",
              "2                NaN                               1               365  \n",
              "3               4.64                               1               194  \n",
              "4               0.10                               1                 0  "
            ]
          },
          "execution_count": 23,
          "metadata": {},
          "output_type": "execute_result"
        }
      ],
      "source": [
        "#Changes visualization\n",
        "dataset.head()"
      ]
    },
    {
      "cell_type": "markdown",
      "metadata": {
        "id": "xL0Bza4VFaBp"
      },
      "source": [
        "#Question 1\n",
        "Find a feature with missing values. How many missing values does it have?"
      ]
    },
    {
      "cell_type": "code",
      "execution_count": null,
      "metadata": {
        "colab": {
          "base_uri": "https://localhost:8080/"
        },
        "id": "cD5yFGZ0FEzG",
        "outputId": "db36d6b1-40ec-4d16-ea01-8d53bd74c0a6"
      },
      "outputs": [
        {
          "data": {
            "text/plain": [
              "latitude                              0\n",
              "longitude                             0\n",
              "price                                 0\n",
              "minimum_nights                        0\n",
              "number_of_reviews                     0\n",
              "reviews_per_month                 10052\n",
              "calculated_host_listings_count        0\n",
              "availability_365                      0\n",
              "dtype: int64"
            ]
          },
          "execution_count": 24,
          "metadata": {},
          "output_type": "execute_result"
        }
      ],
      "source": [
        "#Find missing values\n",
        "dataset.isnull().sum()"
      ]
    },
    {
      "cell_type": "markdown",
      "metadata": {
        "id": "ngWidAKTFpW5"
      },
      "source": [
        "reviews_per_month is the feature with missing values with 10052 missing values."
      ]
    },
    {
      "cell_type": "markdown",
      "metadata": {
        "id": "hVnj-vtEF8b8"
      },
      "source": [
        "#Question 2\n",
        "What's the median (50% percentile) for variable 'minimum_nights'?"
      ]
    },
    {
      "cell_type": "code",
      "execution_count": null,
      "metadata": {
        "colab": {
          "base_uri": "https://localhost:8080/"
        },
        "id": "i6qp8J5lFo_A",
        "outputId": "b29f3e1e-adce-46d7-90cd-0855e58d68f2"
      },
      "outputs": [
        {
          "data": {
            "text/plain": [
              "3.0"
            ]
          },
          "execution_count": 25,
          "metadata": {},
          "output_type": "execute_result"
        }
      ],
      "source": [
        "#Media \n",
        "dataset['minimum_nights'].quantile(q=.50)\n",
        "#or\n",
        "#np.median(dataset['minimum_nights'])"
      ]
    },
    {
      "cell_type": "markdown",
      "metadata": {
        "id": "GkcucoOmbOa1"
      },
      "source": [
        "* Split the data\n",
        "* Shuffle the initial dataset, use seed 42.\n",
        "* Split your data in train/val/test sets, with 60%/20%/20% distribution.\n",
        "* Make sure that the target value ('price') is not in your dataframe.\n",
        "* Apply the log transformation to the price variable using the np.log1p() function."
      ]
    },
    {
      "cell_type": "code",
      "execution_count": null,
      "metadata": {
        "id": "OMmH3XZVb1Ag"
      },
      "outputs": [],
      "source": [
        "#Split the data\n",
        "X = dataset.iloc[:, [0,1,3,4,5,6,7]]\n",
        "#Make sure that the target value ('price') is not in your dataframe\n",
        "y = dataset.iloc[:, [2]]"
      ]
    },
    {
      "cell_type": "code",
      "execution_count": null,
      "metadata": {
        "id": "Q5ymOJpthqoz"
      },
      "outputs": [],
      "source": [
        "# Apply the log transformation to the price variable using the np.log1p() function.\n",
        "y = np.log1p(y)"
      ]
    },
    {
      "cell_type": "code",
      "execution_count": null,
      "metadata": {
        "colab": {
          "base_uri": "https://localhost:8080/"
        },
        "id": "doi10ZBWg1im",
        "outputId": "30067871-ed26-40b3-b71b-db598f278c16"
      },
      "outputs": [
        {
          "data": {
            "text/plain": [
              "9779.0"
            ]
          },
          "execution_count": 30,
          "metadata": {},
          "output_type": "execute_result"
        }
      ],
      "source": [
        "#What length the validation and test sets should have?\n",
        "len(X)*.20"
      ]
    },
    {
      "cell_type": "code",
      "execution_count": null,
      "metadata": {
        "id": "jJV1PD-Gb0d1"
      },
      "outputs": [],
      "source": [
        "#Shuffle the initial dataset, use seed 42.\n",
        "#Split your data in train/val/test sets, with 60%/20%/20% distribution.\n",
        "from sklearn.model_selection import train_test_split\n",
        "X_train, X_test, y_train, y_test = train_test_split(X, y, test_size=.40, random_state=42, shuffle= True)\n",
        "\n",
        "X_validation, X_test, y_validation, y_test = train_test_split(X_test, y_test, test_size=.50, random_state=42, shuffle= True)"
      ]
    },
    {
      "cell_type": "code",
      "execution_count": null,
      "metadata": {
        "colab": {
          "base_uri": "https://localhost:8080/"
        },
        "id": "cYxTPK8wg5nV",
        "outputId": "eac99711-7746-4063-823a-0bbcabafa4e4"
      },
      "outputs": [
        {
          "data": {
            "text/plain": [
              "(9779, 9779)"
            ]
          },
          "execution_count": 33,
          "metadata": {},
          "output_type": "execute_result"
        }
      ],
      "source": [
        "#Datasets length visualization\n",
        "len(X_validation), len(X_test)"
      ]
    },
    {
      "cell_type": "markdown",
      "metadata": {
        "id": "9Z1gsKX8ac_C"
      },
      "source": [
        "# Question 3\n",
        "* We need to deal with missing values for the column from Q1.\n",
        "* We have two options: fill it with 0 or with the mean of this variable.\n",
        "* Try both options. For each, train a linear regression model without * regularization using the code from the lessons.\n",
        "* For computing the mean, use the training only!\n",
        "* Use the validation dataset to evaluate the models and compare the RMSE of each option.\n",
        "* Round the RMSE scores to 2 decimal digits using round(score, 2)\n",
        "* Which option gives better RMSE?"
      ]
    },
    {
      "cell_type": "code",
      "execution_count": null,
      "metadata": {
        "id": "pb_L27d1Fl_H"
      },
      "outputs": [],
      "source": [
        "#We need to deal with missing values for the column from Q1.\n",
        "#We have two options: fill it with 0 or with the mean of this variable.\n",
        "#Try both options\n",
        "\n",
        "#Preparing datasets\n",
        "\n",
        "#Trainsets\n",
        "X_train_0 = X_train.copy()\n",
        "X_train_mean = X_train.copy()\n",
        "\n",
        "average = X_train['reviews_per_month'].mean()\n",
        "X_train_0['reviews_per_month'] = X_train_0['reviews_per_month'].fillna(value= 0 )\n",
        "X_train_mean['reviews_per_month'] = X_train_mean['reviews_per_month'].fillna(value=average)\n",
        "\n",
        "#Validation sets\n",
        "X_validation_0 = X_validation.copy()\n",
        "X_validation_mean = X_validation.copy()\n",
        "\n",
        "X_validation_0['reviews_per_month'] = X_validation['reviews_per_month'].fillna(value = 0)\n",
        "X_validation_mean['reviews_per_month'] = X_validation['reviews_per_month'].fillna(value = average)"
      ]
    },
    {
      "cell_type": "code",
      "execution_count": null,
      "metadata": {
        "colab": {
          "base_uri": "https://localhost:8080/"
        },
        "id": "3GdSOC_-a56x",
        "outputId": "3b411b33-f563-4f71-e348-3d1a864e38f3"
      },
      "outputs": [
        {
          "data": {
            "text/plain": [
              "(1.3785596247364116, 1.0919177148311006, 1.3785596247364116)"
            ]
          },
          "execution_count": 35,
          "metadata": {},
          "output_type": "execute_result"
        }
      ],
      "source": [
        "#Some statistics about the data \n",
        "average, X_train_0['reviews_per_month'].mean(), X_train_mean['reviews_per_month'].mean()"
      ]
    },
    {
      "cell_type": "code",
      "execution_count": null,
      "metadata": {
        "id": "Iq3nZ4QRa54E"
      },
      "outputs": [],
      "source": [
        "#Function to train a linear regression model\n",
        "def train_linear_regression(X, y):\n",
        "    ones = np.ones(X.shape[0])\n",
        "    X = np.column_stack([ones, X])\n",
        "\n",
        "    XTX = X.T.dot(X)\n",
        "    XTX_inv = np.linalg.inv(XTX)\n",
        "    w = XTX_inv.dot(X.T).dot(y)\n",
        "    \n",
        "    return w[0], w[1:]"
      ]
    },
    {
      "cell_type": "code",
      "execution_count": null,
      "metadata": {
        "id": "g4rMrv_pa5og"
      },
      "outputs": [],
      "source": [
        "#Function calculate the root mean square error\n",
        "def rmse(y, y_pred):\n",
        "    error = y_pred - y\n",
        "    mse = (error ** 2).mean()\n",
        "    return np.sqrt(mse)\n"
      ]
    },
    {
      "cell_type": "code",
      "execution_count": null,
      "metadata": {
        "id": "TbJs6KGSeD-h"
      },
      "outputs": [],
      "source": [
        "#Training a linear regression model with X_train_0, y_trai\n",
        "w_0_null, w_null = train_linear_regression(X_train_0.values, y_train.values)"
      ]
    },
    {
      "cell_type": "code",
      "execution_count": null,
      "metadata": {
        "id": "p_MXQ0iEhShS"
      },
      "outputs": [],
      "source": [
        "X_validation_0 = X_validation_0.values"
      ]
    },
    {
      "cell_type": "code",
      "execution_count": null,
      "metadata": {
        "id": "fzKx3hGBfmD3"
      },
      "outputs": [],
      "source": [
        "#Making predictions\n",
        "y_null_pred_val = w_0_null[0] + X_validation_0.dot(w_null)"
      ]
    },
    {
      "cell_type": "code",
      "execution_count": null,
      "metadata": {
        "colab": {
          "base_uri": "https://localhost:8080/"
        },
        "id": "NOp6S5Y0fxfq",
        "outputId": "c95acf90-cdb9-4ef0-92ed-6d22bb04e15a"
      },
      "outputs": [
        {
          "data": {
            "text/plain": [
              "0.64"
            ]
          },
          "execution_count": 41,
          "metadata": {},
          "output_type": "execute_result"
        }
      ],
      "source": [
        "#Calculating the rmse\n",
        "np.round(rmse(y_validation.values, y_null_pred_val),2)"
      ]
    },
    {
      "cell_type": "code",
      "execution_count": null,
      "metadata": {
        "id": "uazFOACuypkv"
      },
      "outputs": [],
      "source": [
        "#Training a linear regression model with X_train_mean, y_train\n",
        "w_0_mean, w_mean = train_linear_regression(X_train_mean.values, y_train.values)"
      ]
    },
    {
      "cell_type": "code",
      "execution_count": null,
      "metadata": {
        "id": "FMuehN7POorT"
      },
      "outputs": [],
      "source": [
        "X_validation_mean = X_validation_mean.values"
      ]
    },
    {
      "cell_type": "code",
      "execution_count": null,
      "metadata": {
        "id": "6MDIUsILOs3U"
      },
      "outputs": [],
      "source": [
        "#Making predictions\n",
        "y_mean_pred_val = w_0_mean[0] + X_validation_mean.dot(w_mean)"
      ]
    },
    {
      "cell_type": "code",
      "execution_count": null,
      "metadata": {
        "colab": {
          "base_uri": "https://localhost:8080/"
        },
        "id": "QgaAW-g_Oxlr",
        "outputId": "9e04f84a-1e40-4e32-8e18-4b4313625fbe"
      },
      "outputs": [
        {
          "data": {
            "text/plain": [
              "0.64"
            ]
          },
          "execution_count": 45,
          "metadata": {},
          "output_type": "execute_result"
        }
      ],
      "source": [
        "#calculating the rmse\n",
        "np.round(rmse(y_validation.values, y_mean_pred_val),2)"
      ]
    },
    {
      "cell_type": "markdown",
      "metadata": {
        "id": "ndRP2bsuPENl"
      },
      "source": [
        "Which option gives better RMSE?\n",
        "\n",
        "There is not a best option, the both have the same rmse"
      ]
    },
    {
      "cell_type": "markdown",
      "metadata": {
        "id": "AZ3ivxb-fxD2"
      },
      "source": [
        "#Question 4\n",
        "* Now let's train a regularized linear regression.\n",
        "* For this question, fill the NAs with 0.\n",
        "* Try different values of r from this list: [0, 0.000001, 0.0001, 0.001, 0.01, 0.1, 1, 5, 10].\n",
        "* Use RMSE to evaluate the model on the validation dataset.\n",
        "* Round the RMSE scores to 2 decimal digits.\n",
        "* Which r gives the best RMSE?\n",
        "* If there are multiple options, select the smallest r."
      ]
    },
    {
      "cell_type": "code",
      "execution_count": null,
      "metadata": {
        "id": "Dp0VfNjYPl5y"
      },
      "outputs": [],
      "source": [
        "# Regularized linear regression model \n",
        "def train_linear_regression_reg(X, y, r=0.0):\n",
        "    ones = np.ones(X.shape[0])\n",
        "    X = np.column_stack([ones, X])\n",
        "\n",
        "    XTX = X.T.dot(X)\n",
        "    reg = r * np.eye(XTX.shape[0])\n",
        "    XTX = XTX + reg\n",
        "\n",
        "    XTX_inv = np.linalg.inv(XTX)\n",
        "    w = XTX_inv.dot(X.T).dot(y)\n",
        "    \n",
        "    return w[0], w[1:]"
      ]
    },
    {
      "cell_type": "code",
      "execution_count": null,
      "metadata": {
        "id": "uh-6IyD1P3o9"
      },
      "outputs": [],
      "source": [
        "# For this question, fill the NAs with 0.\n",
        "#Preparing data \n",
        "X_train_0 = X_train.copy()\n",
        "X_validation_0 = X_validation.copy()\n",
        "\n",
        "X_train_0['reviews_per_month'] = X_train_0['reviews_per_month'].fillna(value= 0 )\n",
        "X_validation_0['reviews_per_month'] = X_validation['reviews_per_month'].fillna(value = 0)"
      ]
    },
    {
      "cell_type": "code",
      "execution_count": null,
      "metadata": {
        "id": "AWvm_A3dSSYQ"
      },
      "outputs": [],
      "source": [
        "r_values = [0, 0.000001, 0.0001, 0.001, 0.01, 0.1, 1, 5, 10]\n",
        "X_validation_0 = X_validation_0.values"
      ]
    },
    {
      "cell_type": "code",
      "execution_count": null,
      "metadata": {
        "colab": {
          "base_uri": "https://localhost:8080/"
        },
        "id": "QpPg0Fg9QPDU",
        "outputId": "e064bc3d-e695-429b-d888-ab15176ebbb1"
      },
      "outputs": [
        {
          "name": "stdout",
          "output_type": "stream",
          "text": [
            "0 -440.3826961243489 0.64\n",
            "1e-06 -440.3291441592916 0.64\n",
            "0.0001 -435.0911969705565 0.64\n",
            "0.001 -392.631550533064 0.64\n",
            "0.01 -198.71192642352295 0.65\n",
            "0.1 -33.457856555731354 0.67\n",
            "1 -3.5900562246085874 0.67\n",
            "5 -0.7215924137017069 0.67\n",
            "10 -0.3604187944348182 0.67\n"
          ]
        }
      ],
      "source": [
        "for r in r_values:\n",
        "  w_0, w = train_linear_regression_reg(X_train_0.values, y_train.values, r)\n",
        "  #Making predictions\n",
        "  y_pred_val = w_0[0] + X_validation_0.dot(w)\n",
        "  #Calculatin the rmse\n",
        "  mse = np.round(rmse(y_validation.values, y_pred_val),2)\n",
        "  print(r, w_0[0], mse)\n"
      ]
    },
    {
      "cell_type": "markdown",
      "metadata": {
        "id": "oqaVnsge8yol"
      },
      "source": [
        "Which r gives the best RMSE?\n",
        "\n",
        "If there are multiple options, select the smallest r.\n",
        "\n",
        "r = 0.1 gives the best results"
      ]
    },
    {
      "cell_type": "markdown",
      "metadata": {
        "id": "kCucDYxc9M-p"
      },
      "source": [
        "# Question 5\n",
        "* We used seed 42 for splitting the data. Let's find out how selecting the seed influences our score.\n",
        "* Try different seed values: [0, 1, 2, 3, 4, 5, 6, 7, 8, 9].\n",
        "* For each seed, do the train/validation/test split with 60%/20%/20% distribution.\n",
        "* Fill the missing values with 0 and train a model without regularization.\n",
        "* For each seed, evaluate the model on the validation dataset and collect the RMSE scores.\n",
        "* What's the standard deviation of all the scores? To compute the standard deviation, use np.std.\n",
        "* Round the result to 3 decimal digits (round(std, 3))\n",
        "* Note: Standard deviation shows how different the values are. If it's low, then all values are approximately the same. \n",
        "* If it's high, the values are different. If standard deviation of scores is low, then our model is stable."
      ]
    },
    {
      "cell_type": "code",
      "execution_count": null,
      "metadata": {
        "id": "lgoRY2m--pHe"
      },
      "outputs": [],
      "source": [
        "# Split the data\n",
        "X = dataset.iloc[:, [0,1,3,4,5,6,7]]\n",
        "#Make sure that the target value ('price') is not in your dataframe\n",
        "y = dataset.iloc[:, [2]]"
      ]
    },
    {
      "cell_type": "code",
      "execution_count": null,
      "metadata": {
        "colab": {
          "base_uri": "https://localhost:8080/"
        },
        "id": "ATgDaafX-3Qn",
        "outputId": "2cadeebf-19c4-4ad4-e139-00577b078fd2"
      },
      "outputs": [
        {
          "name": "stdout",
          "output_type": "stream",
          "text": [
            "0 -66403.52568286206 210.63\n",
            "1 -70120.23942409984 248.64\n",
            "2 -68964.3889834153 214.05\n",
            "3 -66460.10260934445 220.97\n",
            "4 -67192.93286146232 258.06\n",
            "5 -66584.359115719 257.93\n",
            "6 -65971.8862354357 245.4\n",
            "7 -68764.4814422817 183.04\n",
            "8 -67356.47892169602 175.38\n",
            "9 -69246.58980530531 227.69\n",
            "27.782\n"
          ]
        }
      ],
      "source": [
        "#Try different seed values: [0, 1, 2, 3, 4, 5, 6, 7, 8, 9]\n",
        "seed_values = [0, 1, 2, 3, 4, 5, 6, 7, 8, 9]\n",
        "rsme_list = [ ]\n",
        "for seed in seed_values:\n",
        "\n",
        "  #For each seed, do the train/validation/test split with 60%/20%/20% distribution.\n",
        "  #split data into train and test sets with relation [60,40]\n",
        "  X_train, X_test, y_train, y_test = train_test_split(X, y, test_size=.40, random_state=seed, shuffle= True)\n",
        "  #split data into test and validations sets with relation [50,50]\n",
        "  X_validation, X_test, y_validation, y_test = train_test_split(X_test, y_test, test_size=.50, random_state=seed, shuffle= True)\n",
        "\n",
        "  #Fill the missing values with 0 and train a model without regularization.\n",
        "  #Preparing data \n",
        "\n",
        "  X_train['reviews_per_month'] = X_train['reviews_per_month'].fillna(value= 0 )\n",
        "  X_validation['reviews_per_month'] = X_validation['reviews_per_month'].fillna(value = 0)\n",
        "\n",
        "  #For each seed, evaluate the model on the validation dataset and collect the RMSE scores.\n",
        "  w_0, w = train_linear_regression(X_train.values, y_train.values)\n",
        "  #making predictions\n",
        "  y_pred_val = w_0[0] + X_validation.dot(w)\n",
        "  #calculatin the rmse\n",
        "  mse = np.round(rmse(y_validation.values, y_pred_val.values),2)\n",
        "  \n",
        "  #For each seed, evaluate the model on the validation dataset and collect the RMSE scores.\n",
        "  rsme_list.append(mse)\n",
        "\n",
        "  print(seed, w_0[0],mse)\n",
        "\n",
        "#What's the standard deviation of all the scores? To compute the standard deviation, use np.std.\n",
        "#Round the result to 3 decimal digits (round(std, 3))\n",
        "print(np.round(np.std(rsme_list),3))\n"
      ]
    },
    {
      "cell_type": "markdown",
      "metadata": {
        "id": "KAXoLDm9IxlY"
      },
      "source": [
        "#Question 6\n",
        "* Split the dataset like previously, use seed 9.\n",
        "* Combine train and validation datasets.\n",
        "* Fill the missing values with 0 and train a model with r=0.001.\n",
        "* What's the RMSE on the test dataset?"
      ]
    },
    {
      "cell_type": "code",
      "execution_count": null,
      "metadata": {
        "id": "6RsJrzCyGO14"
      },
      "outputs": [],
      "source": [
        "# Split the data\n",
        "X = dataset.iloc[:, [0,1,3,4,5,6,7]]\n",
        "#Make sure that the target value ('price') is not in your dataframe\n",
        "y = dataset.iloc[:, [2]]\n",
        "y = np.log1p(y)"
      ]
    },
    {
      "cell_type": "code",
      "execution_count": null,
      "metadata": {
        "id": "zV-eQMXwJYH0"
      },
      "outputs": [],
      "source": [
        "#For each seed, do the train/validation/test split with 60%/20%/20% distribution.\n",
        "#split data into train and test sets with relation [60,40]\n",
        "X_train, X_test, y_train, y_test = train_test_split(X, y, test_size=.20, random_state=9, shuffle= True)"
      ]
    },
    {
      "cell_type": "code",
      "execution_count": null,
      "metadata": {
        "id": "B7Y4LBX7JrLo"
      },
      "outputs": [],
      "source": [
        "#Fill the missing values with 0 \n",
        "X_train['reviews_per_month'] = X_train['reviews_per_month'].fillna(value= 0 )\n",
        "X_test['reviews_per_month'] = X_test['reviews_per_month'].fillna(value = 0)"
      ]
    },
    {
      "cell_type": "code",
      "execution_count": null,
      "metadata": {
        "id": "YN-TBxiOMAew"
      },
      "outputs": [],
      "source": [
        "#Train a model with r=0.001\n",
        "w_0, w = train_linear_regression_reg(X_train.values, y_train.values, r = 0.01)"
      ]
    },
    {
      "cell_type": "code",
      "execution_count": null,
      "metadata": {
        "id": "_-35n2JANNGh"
      },
      "outputs": [],
      "source": [
        "X_test = X_test.values"
      ]
    },
    {
      "cell_type": "code",
      "execution_count": null,
      "metadata": {
        "id": "tClsJNWHM9zj"
      },
      "outputs": [],
      "source": [
        "y_pred_val = w_0[0] + X_test.dot(w)"
      ]
    },
    {
      "cell_type": "code",
      "execution_count": null,
      "metadata": {
        "colab": {
          "base_uri": "https://localhost:8080/"
        },
        "id": "CbU99E-KMrqX",
        "outputId": "ba64c375-e2ff-40d4-c121-52f553e6f37d"
      },
      "outputs": [
        {
          "data": {
            "text/plain": [
              "0.66"
            ]
          },
          "execution_count": 58,
          "metadata": {},
          "output_type": "execute_result"
        }
      ],
      "source": [
        "#What's the RMSE on the test dataset?\n",
        "np.round(rmse(y_test.values, y_pred_val),2)"
      ]
    },
    {
      "cell_type": "code",
      "execution_count": null,
      "metadata": {
        "id": "QFdBJdQB1GP4"
      },
      "outputs": [],
      "source": []
    }
  ],
  "metadata": {
    "colab": {
      "collapsed_sections": [],
      "name": "Week 2.ipynb",
      "provenance": []
    },
    "kernelspec": {
      "display_name": "Python 3",
      "name": "python3"
    },
    "language_info": {
      "name": "python"
    }
  },
  "nbformat": 4,
  "nbformat_minor": 0
}
