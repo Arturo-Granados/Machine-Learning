{
  "cells": [
    {
      "cell_type": "markdown",
      "metadata": {
        "id": "303uRSyuP4EN"
      },
      "source": [
        "#Set up"
      ]
    },
    {
      "cell_type": "code",
      "execution_count": null,
      "metadata": {
        "id": "lceKEDXZOdHE"
      },
      "outputs": [],
      "source": [
        "#Import important libraries\n",
        "import pandas as pd \n",
        "import numpy as np\n",
        "import matplotlib.pyplot as plt \n",
        "import seaborn as sns"
      ]
    },
    {
      "cell_type": "markdown",
      "metadata": {
        "id": "FyXxSRzzP7Bn"
      },
      "source": [
        "#Get data"
      ]
    },
    {
      "cell_type": "code",
      "execution_count": null,
      "metadata": {
        "id": "_dPcVRW2Oy25"
      },
      "outputs": [],
      "source": [
        "#Download the dataset\n",
        "dataset = pd.read_csv('https://raw.githubusercontent.com/alexeygrigorev/mlbookcamp-code/master/chapter-06-trees/CreditScoring.csv')"
      ]
    },
    {
      "cell_type": "code",
      "execution_count": null,
      "metadata": {
        "id": "B36dImAnVKBb"
      },
      "outputs": [],
      "source": [
        "#Change the columns name to a lower case\n",
        "dataset.columns = dataset.columns.str.lower()"
      ]
    },
    {
      "cell_type": "markdown",
      "metadata": {
        "id": "bgA_Z8S-Pc5V"
      },
      "source": [
        "# Preparation\n",
        "* Execute the preparation code from the starter notebook\n",
        "* Split the dataset into 3 parts: train/validation/test with 60%/20%/20% distribution. Use train_test_split funciton for that with random_state=1"
      ]
    },
    {
      "cell_type": "markdown",
      "metadata": {
        "id": "w9IFJVYzVPhJ"
      },
      "source": [
        "Some of the features are encoded as numbers. Use the following code to de-code them:"
      ]
    },
    {
      "cell_type": "code",
      "execution_count": null,
      "metadata": {
        "id": "zxbvFhUCRGy3"
      },
      "outputs": [],
      "source": [
        "#Maping some information in the columns \n",
        "status_values = {\n",
        "    1: 'ok',\n",
        "    2: 'default',\n",
        "    0: 'unk'\n",
        "}\n",
        "\n",
        "dataset.status = dataset.status.map(status_values)\n",
        "\n",
        "\n",
        "home_values = {\n",
        "    1: 'rent',\n",
        "    2: 'owner',\n",
        "    3: 'private',\n",
        "    4: 'ignore',\n",
        "    5: 'parents',\n",
        "    6: 'other',\n",
        "    0: 'unk'\n",
        "}\n",
        "\n",
        "dataset.home = dataset.home.map(home_values)\n",
        "\n",
        "marital_values = {\n",
        "    1: 'single',\n",
        "    2: 'married',\n",
        "    3: 'widow',\n",
        "    4: 'separated',\n",
        "    5: 'divorced',\n",
        "    0: 'unk'\n",
        "}\n",
        "\n",
        "dataset.marital = dataset.marital.map(marital_values)\n",
        "\n",
        "records_values = {\n",
        "    1: 'no',\n",
        "    2: 'yes',\n",
        "    0: 'unk'\n",
        "}\n",
        "\n",
        "dataset.records = dataset.records.map(records_values)\n",
        "\n",
        "job_values = {\n",
        "    1: 'fixed',\n",
        "    2: 'partime',\n",
        "    3: 'freelance',\n",
        "    4: 'others',\n",
        "    0: 'unk'\n",
        "}\n",
        "\n",
        "dataset.job = dataset.job.map(job_values)"
      ]
    },
    {
      "cell_type": "code",
      "execution_count": null,
      "metadata": {
        "id": "9BUUJoZVV1Jd"
      },
      "outputs": [],
      "source": [
        "#Prepare the numerical variables:\n",
        "for c in ['income', 'assets', 'debt']:\n",
        "    dataset[c] = dataset[c].replace(to_replace=99999999, value=0)"
      ]
    },
    {
      "cell_type": "code",
      "execution_count": null,
      "metadata": {
        "id": "kRdv3VuCWW3s"
      },
      "outputs": [],
      "source": [
        "#Remove clients with unknown default status\n",
        "dataset = dataset[dataset.status != 'unk'].reset_index(drop=True)"
      ]
    },
    {
      "cell_type": "code",
      "execution_count": null,
      "metadata": {
        "id": "qfjfFcJDWWy8"
      },
      "outputs": [],
      "source": [
        "#Create the target variable\n",
        "dataset['default'] = (dataset.status == 'default').astype(int)\n",
        "del dataset['status']"
      ]
    },
    {
      "cell_type": "code",
      "execution_count": null,
      "metadata": {
        "id": "z7tmQdnAWWwA"
      },
      "outputs": [],
      "source": [
        "#split data into X and y variable\n",
        "X = dataset.iloc[:,:-1]\n",
        "y = dataset.iloc[:,-1].values\n"
      ]
    },
    {
      "cell_type": "code",
      "execution_count": null,
      "metadata": {
        "id": "-C5DwvgGPJQX"
      },
      "outputs": [],
      "source": [
        "#Split data into train, test and validation datasets \n",
        "from sklearn.model_selection import train_test_split\n",
        "X_train, X_test, y_train, y_test = train_test_split(X, y, test_size= .40, random_state= 1)\n",
        "X_test, X_validation, y_test, y_validation = train_test_split(X_test, y_test, test_size = .50, random_state = 1)"
      ]
    },
    {
      "cell_type": "markdown",
      "metadata": {
        "id": "rBNzmA6ept4-"
      },
      "source": [
        "# Question 1\n",
        "ROC AUC could also be used to evaluate feature importance of numerical variables.\n",
        "\n",
        "Let's do that\n",
        "\n",
        "\n",
        "* For each numerical variable, use it as score and compute AUC with the \"default\" variable\n",
        "* Use the training dataset for that\n",
        "\n",
        "If your AUC is < 0.5, invert this variable by putting \"-\" in front\n",
        "\n",
        "(e.g. -df_train['expenses'])\n",
        "\n",
        "AUC can go below 0.5 if the variable is negatively correlated with the target varialble. You can change the direction of the correlation by negating this variable - then negative correlation becomes positive.\n",
        "\n",
        "Which numerical variable (among the following 4) has the highest AUC?\n",
        "\n",
        "* seniority\n",
        "* time\n",
        "* income\n",
        "* debt"
      ]
    },
    {
      "cell_type": "code",
      "execution_count": null,
      "metadata": {
        "id": "4LZdQ86Rx1Of"
      },
      "outputs": [],
      "source": [
        "#Numerical columns list\n",
        "numerical_columns = ['seniority', 'time', 'age', 'expenses', 'income', 'assets', 'debt', 'price']"
      ]
    },
    {
      "cell_type": "code",
      "execution_count": null,
      "metadata": {
        "colab": {
          "base_uri": "https://localhost:8080/"
        },
        "id": "odLXaHqkwzXA",
        "outputId": "c44b7e1e-117d-4fe1-d7b6-6e6d66afbdbd"
      },
      "outputs": [
        {
          "name": "stdout",
          "output_type": "stream",
          "text": [
            "seniority, 0.699\n",
            "     time, 0.555\n",
            "      age, 0.574\n",
            " expenses, 0.507\n",
            "   income, 0.671\n",
            "   assets, 0.638\n",
            "     debt, 0.503\n",
            "    price, 0.514\n"
          ]
        }
      ],
      "source": [
        "#calculate AUC \n",
        "from sklearn.metrics import roc_auc_score\n",
        "\n",
        "for column in numerical_columns:\n",
        "    auc = roc_auc_score(y_train, X_train[column])\n",
        "    if auc < 0.5:\n",
        "        auc = roc_auc_score(y_train, -X_train[column])\n",
        "    print('%9s, %.3f' % (column, auc))"
      ]
    },
    {
      "cell_type": "markdown",
      "metadata": {
        "id": "RdebafMf26PK"
      },
      "source": [
        "Which numerical variable (among the following 4) has the highest AUC?\n",
        "\n",
        "* income with 0.671"
      ]
    },
    {
      "cell_type": "code",
      "execution_count": null,
      "metadata": {
        "colab": {
          "base_uri": "https://localhost:8080/",
          "height": 320
        },
        "id": "jYoLHeEq3PgQ",
        "outputId": "7acb36ed-f3be-404d-f845-ccc8efb3239d"
      },
      "outputs": [
        {
          "data": {
            "image/png": "[encoded data removed]",
            "text/plain": [
              "<Figure size 360x360 with 1 Axes>"
            ]
          },
          "metadata": {
            "needs_background": "light"
          },
          "output_type": "display_data"
        }
      ],
      "source": [
        "#Roc_curve plot\n",
        "from sklearn.metrics import roc_curve\n",
        "plt.figure(figsize=(5, 5))\n",
        "\n",
        "fpr, tpr, _ = roc_curve(y_train, X_train.seniority)\n",
        "plt.plot(fpr, tpr, label='+seniority')\n",
        "\n",
        "fpr, tpr, _ = roc_curve(y_train, -X_train.seniority)\n",
        "plt.plot(fpr, tpr, label='-seniority')\n",
        "\n",
        "plt.plot([0, 1], [0, 1], color='grey', linestyle='--')\n",
        "\n",
        "plt.legend()\n",
        "plt.show()"
      ]
    },
    {
      "cell_type": "markdown",
      "metadata": {
        "id": "6fkIxCYR46ea"
      },
      "source": [
        "We can see that there's separation in distribution of seniority\n",
        "between positive and negative classes (this is what AUC tells us about)"
      ]
    },
    {
      "cell_type": "code",
      "execution_count": null,
      "metadata": {
        "colab": {
          "base_uri": "https://localhost:8080/",
          "height": 279
        },
        "id": "Q8VZD-xT4Kep",
        "outputId": "739dc66f-09ce-4d06-a493-db6d91f0db60"
      },
      "outputs": [
        {
          "data": {
            "image/png": "[encoded data removed]",
            "text/plain": [
              "<Figure size 432x288 with 1 Axes>"
            ]
          },
          "metadata": {
            "needs_background": "light"
          },
          "output_type": "display_data"
        }
      ],
      "source": [
        "#Distribution of seniority between positive and negative classes \n",
        "sns.histplot(X_train.seniority[y_train == 1],\n",
        "             stat='density', bins=50,\n",
        "             color='orange', alpha=0.5,\n",
        "             label='positive')\n",
        "sns.histplot(X_train.seniority[y_train == 0],\n",
        "             stat='density', bins=50,\n",
        "             color='blue', alpha=0.5,\n",
        "             label='negative')\n",
        "\n",
        "plt.legend()\n",
        "plt.show()"
      ]
    },
    {
      "cell_type": "markdown",
      "metadata": {
        "id": "mXDQVxHx4-zo"
      },
      "source": [
        "For negative examples (blue) the values of seniority tend to be higher. That's why AUC is below 0.5 - the correlation is negative. \n",
        "\n",
        "If we revese the order by negating the values seniority, the positive examples\n",
        "will tend to have higher values than negative.\n",
        "That's why AUC of \"-seniority\" is above 0.5"
      ]
    },
    {
      "cell_type": "code",
      "execution_count": null,
      "metadata": {
        "colab": {
          "base_uri": "https://localhost:8080/",
          "height": 279
        },
        "id": "qG57ycOd4-VL",
        "outputId": "c778ceac-222e-4857-b8b6-fc0912ff32aa"
      },
      "outputs": [
        {
          "data": {
            "image/png": "[encoded data removed]",
            "text/plain": [
              "<Figure size 432x288 with 1 Axes>"
            ]
          },
          "metadata": {
            "needs_background": "light"
          },
          "output_type": "display_data"
        }
      ],
      "source": [
        "\n",
        "sns.histplot(-X_train.seniority[y_train == 1],\n",
        "             stat='density', bins=50,\n",
        "             color='orange', alpha=0.5,\n",
        "             label='positive')\n",
        "sns.histplot(-X_train.seniority[y_train == 0],\n",
        "             stat='density', bins=50,\n",
        "             color='blue', alpha=0.5,\n",
        "             label='negative')\n",
        "\n",
        "plt.legend()\n",
        "plt.show()"
      ]
    },
    {
      "cell_type": "markdown",
      "metadata": {
        "id": "4yWetQ8vsNCO"
      },
      "source": [
        "## Training the model\n",
        "From now on, use these columns only:\n",
        "\n",
        "['seniority', 'income', 'assets', 'records', 'job', 'home']\n",
        "\n",
        "Apply one-hot-encoding using DictVectorizer and train the logistic regression with these parameters:\n",
        "\n",
        "LogisticRegression(solver='liblinear', C=1.0, max_iter=1000)"
      ]
    },
    {
      "cell_type": "code",
      "execution_count": null,
      "metadata": {
        "id": "pcFKHfrsYDLG"
      },
      "outputs": [],
      "source": [
        "#From now on, use these columns only: ['seniority', 'income', 'assets', 'records', 'job', 'home']\n",
        "X_train = X_train[['seniority', 'income', 'assets', 'records', 'job', 'home']]"
      ]
    },
    {
      "cell_type": "code",
      "execution_count": null,
      "metadata": {
        "id": "zgkMu7vksgkD"
      },
      "outputs": [],
      "source": [
        "#Apply one-hot-encoding using DictVectorizer \n",
        "from sklearn.feature_extraction import DictVectorizer \n",
        "\n",
        "train_dict = X_train.to_dict(orient='records')\n",
        "dv = DictVectorizer(sparse=False)\n",
        "dv.fit(train_dict)\n",
        "X_train = dv.transform(train_dict)"
      ]
    },
    {
      "cell_type": "code",
      "execution_count": null,
      "metadata": {
        "colab": {
          "base_uri": "https://localhost:8080/"
        },
        "id": "7bOFMgRntuZz",
        "outputId": "17ab500e-856a-4e60-88f2-9ad70c361393"
      },
      "outputs": [
        {
          "data": {
            "text/plain": [
              "LogisticRegression(max_iter=1000, solver='liblinear')"
            ]
          },
          "execution_count": 17,
          "metadata": {},
          "output_type": "execute_result"
        }
      ],
      "source": [
        "#Train the logistic regression with these parameters: LogisticRegression(solver='liblinear', C=1.0, max_iter=1000)\n",
        "from sklearn.linear_model import LogisticRegression\n",
        "model = LogisticRegression(solver='liblinear', C=1.0, max_iter=1000)\n",
        "model.fit(X_train, y_train)"
      ]
    },
    {
      "cell_type": "code",
      "execution_count": null,
      "metadata": {
        "id": "EBoO9qXLvfOB"
      },
      "outputs": [],
      "source": [
        "#Preparing the validation dataset\n",
        "X_validation = X_validation[['seniority', 'income', 'assets', 'records', 'job', 'home']]\n",
        "validation_dict = X_validation.to_dict(orient='records')\n",
        "dv = DictVectorizer(sparse=False)\n",
        "dv.fit(validation_dict)\n",
        "X_validation = dv.transform(validation_dict)"
      ]
    },
    {
      "cell_type": "code",
      "execution_count": null,
      "metadata": {
        "id": "6Qt2eeIuuRO1"
      },
      "outputs": [],
      "source": [
        "#Making prediction\n",
        "y_pred = model.predict(X_validation)"
      ]
    },
    {
      "cell_type": "code",
      "execution_count": null,
      "metadata": {
        "colab": {
          "base_uri": "https://localhost:8080/"
        },
        "id": "E4_hJ7uP0nE0",
        "outputId": "f9fc2724-0cf2-4121-d2ad-9b3c2e436a46"
      },
      "outputs": [
        {
          "data": {
            "text/plain": [
              "0.7789001122334456"
            ]
          },
          "execution_count": 20,
          "metadata": {},
          "output_type": "execute_result"
        }
      ],
      "source": [
        "#accuracy_score\n",
        "from sklearn.metrics import accuracy_score\n",
        "accuracy_score(y_validation, y_pred)"
      ]
    },
    {
      "cell_type": "code",
      "execution_count": null,
      "metadata": {
        "id": "SBSHy7nv5Z1t"
      },
      "outputs": [],
      "source": [
        "y_pred = model.predict_proba(X_validation)[:, 1]"
      ]
    },
    {
      "cell_type": "markdown",
      "metadata": {
        "id": "5UsiXcfg52V9"
      },
      "source": [
        "# Question 2\n",
        "What's the AUC of this model on the validation dataset? (round to 3 digits)\n",
        "\n",
        "* 0.512\n",
        "* 0.612\n",
        "* 0.712\n",
        "* 0.812"
      ]
    },
    {
      "cell_type": "code",
      "execution_count": null,
      "metadata": {
        "colab": {
          "base_uri": "https://localhost:8080/"
        },
        "id": "aFUFL6ax5std",
        "outputId": "15618fb7-0d78-4da8-fa42-89d9466bc0ff"
      },
      "outputs": [
        {
          "data": {
            "text/plain": [
              "0.7810103212856382"
            ]
          },
          "execution_count": 22,
          "metadata": {},
          "output_type": "execute_result"
        }
      ],
      "source": [
        "#Calculating the auc\n",
        "roc_auc_score(y_validation, y_pred)"
      ]
    },
    {
      "cell_type": "markdown",
      "metadata": {
        "id": "CKCZ626d6uRO"
      },
      "source": [
        "# Question 3\n",
        "Now let's compute precision and recall for our model.\n",
        "\n",
        "Evaluate the model on all thresholds from 0.0 to 1.0 with step 0.01\n",
        "For each threshold, compute precision and recall\n",
        "Plot them\n",
        "At which threshold precision and recall curves intersect?\n",
        "\n",
        "* 0.2\n",
        "* 0.4\n",
        "* 0.6\n",
        "* 0.8"
      ]
    },
    {
      "cell_type": "code",
      "execution_count": null,
      "metadata": {
        "id": "pvUjqYNb6uDR"
      },
      "outputs": [],
      "source": [
        "def confusion_matrix_dataframe(y_val, y_pred):\n",
        "    scores = []\n",
        "\n",
        "    thresholds = np.linspace(0, 1, 101)\n",
        "\n",
        "    for t in thresholds:\n",
        "        actual_positive = (y_val == 1)\n",
        "        actual_negative = (y_val == 0)\n",
        "\n",
        "        predict_positive = (y_pred >= t)\n",
        "        predict_negative = (y_pred < t)\n",
        "\n",
        "        tp = (predict_positive & actual_positive).sum()\n",
        "        tn = (predict_negative & actual_negative).sum()\n",
        "\n",
        "        fp = (predict_positive & actual_negative).sum()\n",
        "        fn = (predict_negative & actual_positive).sum()\n",
        "\n",
        "        scores.append((t, tp, fp, fn, tn))\n",
        "\n",
        "    columns = ['threshold', 'tp', 'fp', 'fn', 'tn']\n",
        "    df_scores = pd.DataFrame(scores, columns=columns)\n",
        "    \n",
        "    return df_scores"
      ]
    },
    {
      "cell_type": "code",
      "execution_count": null,
      "metadata": {
        "id": "38FePDsS6cuj"
      },
      "outputs": [],
      "source": [
        "df_scores = confusion_matrix_dataframe(y_validation, y_pred)"
      ]
    },
    {
      "cell_type": "code",
      "execution_count": null,
      "metadata": {
        "colab": {
          "base_uri": "https://localhost:8080/",
          "height": 394
        },
        "id": "SVHFDS65EJtd",
        "outputId": "e143047d-51e6-48f6-c4a7-1d3632046537"
      },
      "outputs": [
        {
          "data": {
            "text/html": [
              "\n",
              "  <div id=\"df-c9bec93b-9d4b-4d79-8f64-c3f37891ba9c\">\n",
              "    <div class=\"colab-df-container\">\n",
              "      <div>\n",
              "<style scoped>\n",
              "    .dataframe tbody tr th:only-of-type {\n",
              "        vertical-align: middle;\n",
              "    }\n",
              "\n",
              "    .dataframe tbody tr th {\n",
              "        vertical-align: top;\n",
              "    }\n",
              "\n",
              "    .dataframe thead th {\n",
              "        text-align: right;\n",
              "    }\n",
              "</style>\n",
              "<table border=\"1\" class=\"dataframe\">\n",
              "  <thead>\n",
              "    <tr style=\"text-align: right;\">\n",
              "      <th></th>\n",
              "      <th>threshold</th>\n",
              "      <th>tp</th>\n",
              "      <th>fp</th>\n",
              "      <th>fn</th>\n",
              "      <th>tn</th>\n",
              "    </tr>\n",
              "  </thead>\n",
              "  <tbody>\n",
              "    <tr>\n",
              "      <th>0</th>\n",
              "      <td>0.0</td>\n",
              "      <td>253</td>\n",
              "      <td>638</td>\n",
              "      <td>0</td>\n",
              "      <td>0</td>\n",
              "    </tr>\n",
              "    <tr>\n",
              "      <th>10</th>\n",
              "      <td>0.1</td>\n",
              "      <td>240</td>\n",
              "      <td>457</td>\n",
              "      <td>13</td>\n",
              "      <td>181</td>\n",
              "    </tr>\n",
              "    <tr>\n",
              "      <th>20</th>\n",
              "      <td>0.2</td>\n",
              "      <td>205</td>\n",
              "      <td>280</td>\n",
              "      <td>48</td>\n",
              "      <td>358</td>\n",
              "    </tr>\n",
              "    <tr>\n",
              "      <th>30</th>\n",
              "      <td>0.3</td>\n",
              "      <td>164</td>\n",
              "      <td>159</td>\n",
              "      <td>89</td>\n",
              "      <td>479</td>\n",
              "    </tr>\n",
              "    <tr>\n",
              "      <th>40</th>\n",
              "      <td>0.4</td>\n",
              "      <td>136</td>\n",
              "      <td>93</td>\n",
              "      <td>117</td>\n",
              "      <td>545</td>\n",
              "    </tr>\n",
              "    <tr>\n",
              "      <th>50</th>\n",
              "      <td>0.5</td>\n",
              "      <td>101</td>\n",
              "      <td>45</td>\n",
              "      <td>152</td>\n",
              "      <td>593</td>\n",
              "    </tr>\n",
              "    <tr>\n",
              "      <th>60</th>\n",
              "      <td>0.6</td>\n",
              "      <td>68</td>\n",
              "      <td>21</td>\n",
              "      <td>185</td>\n",
              "      <td>617</td>\n",
              "    </tr>\n",
              "    <tr>\n",
              "      <th>70</th>\n",
              "      <td>0.7</td>\n",
              "      <td>42</td>\n",
              "      <td>9</td>\n",
              "      <td>211</td>\n",
              "      <td>629</td>\n",
              "    </tr>\n",
              "    <tr>\n",
              "      <th>80</th>\n",
              "      <td>0.8</td>\n",
              "      <td>22</td>\n",
              "      <td>4</td>\n",
              "      <td>231</td>\n",
              "      <td>634</td>\n",
              "    </tr>\n",
              "    <tr>\n",
              "      <th>90</th>\n",
              "      <td>0.9</td>\n",
              "      <td>4</td>\n",
              "      <td>0</td>\n",
              "      <td>249</td>\n",
              "      <td>638</td>\n",
              "    </tr>\n",
              "    <tr>\n",
              "      <th>100</th>\n",
              "      <td>1.0</td>\n",
              "      <td>0</td>\n",
              "      <td>0</td>\n",
              "      <td>253</td>\n",
              "      <td>638</td>\n",
              "    </tr>\n",
              "  </tbody>\n",
              "</table>\n",
              "</div>\n",
              "      <button class=\"colab-df-convert\" onclick=\"convertToInteractive('df-c9bec93b-9d4b-4d79-8f64-c3f37891ba9c')\"\n",
              "              title=\"Convert this dataframe to an interactive table.\"\n",
              "              style=\"display:none;\">\n",
              "        \n",
              "  <svg xmlns=\"http://www.w3.org/2000/svg\" height=\"24px\"viewBox=\"0 0 24 24\"\n",
              "       width=\"24px\">\n",
              "    <path d=\"M0 0h24v24H0V0z\" fill=\"none\"/>\n",
              "    <path d=\"M18.56 5.44l.94 2.06.94-2.06 2.06-.94-2.06-.94-.94-2.06-.94 2.06-2.06.94zm-11 1L8.5 8.5l.94-2.06 2.06-.94-2.06-.94L8.5 2.5l-.94 2.06-2.06.94zm10 10l.94 2.06.94-2.06 2.06-.94-2.06-.94-.94-2.06-.94 2.06-2.06.94z\"/><path d=\"M17.41 7.96l-1.37-1.37c-.4-.4-.92-.59-1.43-.59-.52 0-1.04.2-1.43.59L10.3 9.45l-7.72 7.72c-.78.78-.78 2.05 0 2.83L4 21.41c.39.39.9.59 1.41.59.51 0 1.02-.2 1.41-.59l7.78-7.78 2.81-2.81c.8-.78.8-2.07 0-2.86zM5.41 20L4 18.59l7.72-7.72 1.47 1.35L5.41 20z\"/>\n",
              "  </svg>\n",
              "      </button>\n",
              "      \n",
              "  <style>\n",
              "    .colab-df-container {\n",
              "      display:flex;\n",
              "      flex-wrap:wrap;\n",
              "      gap: 12px;\n",
              "    }\n",
              "\n",
              "    .colab-df-convert {\n",
              "      background-color: #E8F0FE;\n",
              "      border: none;\n",
              "      border-radius: 50%;\n",
              "      cursor: pointer;\n",
              "      display: none;\n",
              "      fill: #1967D2;\n",
              "      height: 32px;\n",
              "      padding: 0 0 0 0;\n",
              "      width: 32px;\n",
              "    }\n",
              "\n",
              "    .colab-df-convert:hover {\n",
              "      background-color: #E2EBFA;\n",
              "      box-shadow: 0px 1px 2px rgba(60, 64, 67, 0.3), 0px 1px 3px 1px rgba(60, 64, 67, 0.15);\n",
              "      fill: #174EA6;\n",
              "    }\n",
              "\n",
              "    [theme=dark] .colab-df-convert {\n",
              "      background-color: #3B4455;\n",
              "      fill: #D2E3FC;\n",
              "    }\n",
              "\n",
              "    [theme=dark] .colab-df-convert:hover {\n",
              "      background-color: #434B5C;\n",
              "      box-shadow: 0px 1px 3px 1px rgba(0, 0, 0, 0.15);\n",
              "      filter: drop-shadow(0px 1px 2px rgba(0, 0, 0, 0.3));\n",
              "      fill: #FFFFFF;\n",
              "    }\n",
              "  </style>\n",
              "\n",
              "      <script>\n",
              "        const buttonEl =\n",
              "          document.querySelector('#df-c9bec93b-9d4b-4d79-8f64-c3f37891ba9c button.colab-df-convert');\n",
              "        buttonEl.style.display =\n",
              "          google.colab.kernel.accessAllowed ? 'block' : 'none';\n",
              "\n",
              "        async function convertToInteractive(key) {\n",
              "          const element = document.querySelector('#df-c9bec93b-9d4b-4d79-8f64-c3f37891ba9c');\n",
              "          const dataTable =\n",
              "            await google.colab.kernel.invokeFunction('convertToInteractive',\n",
              "                                                     [key], {});\n",
              "          if (!dataTable) return;\n",
              "\n",
              "          const docLinkHtml = 'Like what you see? Visit the ' +\n",
              "            '<a target=\"_blank\" href=https://colab.research.google.com/notebooks/data_table.ipynb>data table notebook</a>'\n",
              "            + ' to learn more about interactive tables.';\n",
              "          element.innerHTML = '';\n",
              "          dataTable['output_type'] = 'display_data';\n",
              "          await google.colab.output.renderOutput(dataTable, element);\n",
              "          const docLink = document.createElement('div');\n",
              "          docLink.innerHTML = docLinkHtml;\n",
              "          element.appendChild(docLink);\n",
              "        }\n",
              "      </script>\n",
              "    </div>\n",
              "  </div>\n",
              "  "
            ],
            "text/plain": [
              "     threshold   tp   fp   fn   tn\n",
              "0          0.0  253  638    0    0\n",
              "10         0.1  240  457   13  181\n",
              "20         0.2  205  280   48  358\n",
              "30         0.3  164  159   89  479\n",
              "40         0.4  136   93  117  545\n",
              "50         0.5  101   45  152  593\n",
              "60         0.6   68   21  185  617\n",
              "70         0.7   42    9  211  629\n",
              "80         0.8   22    4  231  634\n",
              "90         0.9    4    0  249  638\n",
              "100        1.0    0    0  253  638"
            ]
          },
          "execution_count": 25,
          "metadata": {},
          "output_type": "execute_result"
        }
      ],
      "source": [
        "df_scores[::10]"
      ]
    },
    {
      "cell_type": "code",
      "execution_count": null,
      "metadata": {
        "id": "JBpHOVqMELqc"
      },
      "outputs": [],
      "source": [
        "df_scores['p'] = df_scores.tp / (df_scores.tp + df_scores.fp)\n",
        "df_scores['r'] = df_scores.tp / (df_scores.tp + df_scores.fn)"
      ]
    },
    {
      "cell_type": "code",
      "execution_count": null,
      "metadata": {
        "colab": {
          "base_uri": "https://localhost:8080/",
          "height": 265
        },
        "id": "o0dEj_50EQJb",
        "outputId": "fc921067-d2d6-4d40-fd9d-79b2dccf07cd"
      },
      "outputs": [
        {
          "data": {
            "image/png": "[encoded data removed]",
            "text/plain": [
              "<Figure size 432x288 with 1 Axes>"
            ]
          },
          "metadata": {
            "needs_background": "light"
          },
          "output_type": "display_data"
        }
      ],
      "source": [
        "plt.plot(df_scores.threshold, df_scores.p, label='precision')\n",
        "plt.plot(df_scores.threshold, df_scores.r, label='recall')\n",
        "\n",
        "plt.vlines(0.4, 0, 1, color='grey', linestyle='--', alpha=0.5)\n",
        "\n",
        "plt.legend()\n",
        "plt.show()"
      ]
    },
    {
      "cell_type": "markdown",
      "metadata": {
        "id": "PY37fyqbEp66"
      },
      "source": [
        "# Question 4\n",
        "*Precision and recall are conflicting - when one grows, the other goes down. That's why they are often combined into the F1 score - a metrics that takes into account both\n",
        "\n",
        "This is the formula for computing F1:\n",
        "\n",
        "F1 = 2 * P * R / (P + R)\n",
        "\n",
        "Where P is precision and R is recall.\n",
        "\n",
        "Let's compute F1 for all thresholds from 0.0 to 1.0 with increment 0.01\n",
        "\n",
        "At which threshold F1 is maximal?\n",
        "\n",
        "* 0.1\n",
        "* 0.3\n",
        "* 0.5\n",
        "* 0.7"
      ]
    },
    {
      "cell_type": "code",
      "execution_count": null,
      "metadata": {
        "id": "OuK_xNBcETK1"
      },
      "outputs": [],
      "source": [
        "df_scores['f1'] = 2 * df_scores.p * df_scores.r / (df_scores.p + df_scores.r)"
      ]
    },
    {
      "cell_type": "code",
      "execution_count": null,
      "metadata": {
        "colab": {
          "base_uri": "https://localhost:8080/",
          "height": 320
        },
        "id": "i5seD9EgJzET",
        "outputId": "7ee6cbc1-1582-4853-85c2-24f19f31ab37"
      },
      "outputs": [
        {
          "data": {
            "image/png": "[encoded data removed]",
            "text/plain": [
              "<Figure size 720x360 with 1 Axes>"
            ]
          },
          "metadata": {
            "needs_background": "light"
          },
          "output_type": "display_data"
        }
      ],
      "source": [
        "plt.figure(figsize=(10, 5))\n",
        "\n",
        "plt.plot(df_scores.threshold, df_scores.f1)\n",
        "plt.vlines(0.3, 0, 0.7, color='grey', linestyle='--', alpha=0.5)\n",
        "\n",
        "plt.xticks(np.linspace(0, 1, 11))\n",
        "plt.show()"
      ]
    },
    {
      "cell_type": "markdown",
      "metadata": {
        "id": "AhpRPWtGLGiS"
      },
      "source": [
        "At which threshold F1 is maximal?\n",
        "\n",
        "Answer: **0.3**"
      ]
    },
    {
      "cell_type": "markdown",
      "metadata": {
        "id": "4y7fgxJ9LPJR"
      },
      "source": [
        "# Question 5\n",
        "\n",
        "Use the KFold class from Scikit-Learn to evaluate our model on 5 different folds:\n",
        "\n",
        "KFold(n_splits=5, shuffle=True, random_state=1)\n",
        "\n",
        "* Iterate over different folds of df_full_train\n",
        "* Split the data into train and validation\n",
        "* Train the model on train with these parameters:  \n",
        "* LogisticRegression(solver='liblinear', C=1.0, max_iter=1000)\n",
        "* Use AUC to evaluate the model on validation\n",
        "\n",
        "How large is standard devidation of the AUC scores across different folds?\n",
        "\n",
        "* 0.001\n",
        "* 0.014\n",
        "* 0.09\n",
        "* 0.14"
      ]
    },
    {
      "cell_type": "code",
      "execution_count": null,
      "metadata": {
        "id": "-YLPn93ZR85o"
      },
      "outputs": [],
      "source": [
        "##split data into train, test and validation dataset\n",
        "from sklearn.model_selection import train_test_split\n",
        "train_set, test_set = train_test_split(dataset,random_state=1, test_size= .40)\n",
        "test_set, validation_set = train_test_split(test_set, random_state = 1, test_size= 50)"
      ]
    },
    {
      "cell_type": "code",
      "execution_count": null,
      "metadata": {
        "id": "yzcAn_f2K4Xt"
      },
      "outputs": [],
      "source": [
        "from sklearn.model_selection import KFold"
      ]
    },
    {
      "cell_type": "code",
      "execution_count": null,
      "metadata": {
        "id": "VJQBiICVPkdT"
      },
      "outputs": [],
      "source": [
        "columns = ['seniority', 'income', 'assets', 'records', 'job', 'home']"
      ]
    },
    {
      "cell_type": "code",
      "execution_count": null,
      "metadata": {
        "id": "vevFtWz2MCd7"
      },
      "outputs": [],
      "source": [
        "#Function to train a LogisticRegression model\n",
        "def train(df_train, y_train, C=1.0):\n",
        "    dicts = df_train[columns].to_dict(orient='records')\n",
        "\n",
        "    dv = DictVectorizer(sparse=False)\n",
        "    X_train = dv.fit_transform(dicts)\n",
        "\n",
        "    model = LogisticRegression(solver='liblinear', C=C)\n",
        "    model.fit(X_train, y_train)\n",
        "\n",
        "    return dv, model\n",
        "#Function to make predictions\n",
        "def predict(df, dv, model):\n",
        "    dicts = df[columns].to_dict(orient='records')\n",
        "\n",
        "    X = dv.transform(dicts)\n",
        "    y_pred = model.predict_proba(X)[:, 1]\n",
        "\n",
        "    return y_pred"
      ]
    },
    {
      "cell_type": "code",
      "execution_count": null,
      "metadata": {
        "colab": {
          "base_uri": "https://localhost:8080/"
        },
        "id": "IeC1v5EjPvgL",
        "outputId": "5316ad44-24cd-4ae5-ca61-74f9eb317a21"
      },
      "outputs": [
        {
          "name": "stdout",
          "output_type": "stream",
          "text": [
            "0.818 +- 0.017\n"
          ]
        }
      ],
      "source": [
        "scores = []\n",
        "\n",
        "kfold = KFold(n_splits=5, shuffle=True, random_state=1)\n",
        "\n",
        "for train_idx, val_idx in kfold.split(train_set):\n",
        "    df_train = train_set.iloc[train_idx]\n",
        "    df_val = train_set.iloc[val_idx]\n",
        "\n",
        "    y_train = df_train.default.values\n",
        "    y_val = df_val.default.values\n",
        "\n",
        "    dv, model = train(df_train, y_train, C=1.0)\n",
        "    y_pred = predict(df_val, dv, model)\n",
        "\n",
        "    auc = roc_auc_score(y_val, y_pred)\n",
        "    scores.append(auc)\n",
        "\n",
        "print('%.3f +- %.3f' % (np.mean(scores), np.std(scores)))"
      ]
    },
    {
      "cell_type": "markdown",
      "metadata": {
        "id": "Ndtdn1sXU8Ok"
      },
      "source": [
        "# Question 6\n",
        "Now let's use 5-Fold cross-validation to find the best parameter C\n",
        "\n",
        "* Iterate over the following C values: [0.01, 0.1, 1, 10]\n",
        "* Initialize KFold with the same parameters as previously\n",
        "* Use these parametes for the model: LogisticRegression(solver='liblinear', C=C, max_iter=1000)\n",
        "* Compute the mean score as well as the std (round the mean and std to 3 decimal digits)\n",
        "\n",
        "Which C leads to the best mean score?\n",
        "\n",
        "* 0.01\n",
        "* 0.1\n",
        "* 1\n",
        "* 10\n",
        "\n",
        "If you have ties, select the score with the lowest std. If you still have ties, select the smallest C"
      ]
    },
    {
      "cell_type": "code",
      "execution_count": null,
      "metadata": {
        "colab": {
          "base_uri": "https://localhost:8080/"
        },
        "id": "cqyoJwDwR43b",
        "outputId": "0ba6a399-f2cf-4a6b-8ffd-822a2e6e4d6f"
      },
      "outputs": [
        {
          "name": "stdout",
          "output_type": "stream",
          "text": [
            "C=0.01, 0.807 +- 0.015\n",
            "C= 0.1, 0.818 +- 0.016\n",
            "C=   1, 0.818 +- 0.017\n",
            "C=  10, 0.818 +- 0.017\n"
          ]
        }
      ],
      "source": [
        "#Trainig a LogisticRegression with diferent values for C \n",
        "kfold = KFold(n_splits=5, shuffle=True, random_state=1)\n",
        "c_values = [0.01, 0.1, 1, 10]\n",
        "\n",
        "for C in c_values:\n",
        "    scores = []\n",
        "\n",
        "    for train_idx, val_idx in kfold.split(train_set):\n",
        "        df_train = train_set.iloc[train_idx]\n",
        "        df_val = train_set.iloc[val_idx]\n",
        "\n",
        "        y_train = df_train.default.values\n",
        "        y_val = df_val.default.values\n",
        "\n",
        "        dv, model = train(df_train, y_train, C=C)\n",
        "        y_pred = predict(df_val, dv, model)\n",
        "\n",
        "        auc = roc_auc_score(y_val, y_pred)\n",
        "        scores.append(auc)\n",
        "\n",
        "    print('C=%4s, %.3f +- %.3f' % (C, np.mean(scores), np.std(scores)))"
      ]
    },
    {
      "cell_type": "code",
      "execution_count": null,
      "metadata": {
        "id": "OXBjt_eoWfFJ"
      },
      "outputs": [],
      "source": []
    }
  ],
  "metadata": {
    "colab": {
      "name": "Week 4.ipynb",
      "provenance": []
    },
    "kernelspec": {
      "display_name": "Python 3",
      "name": "python3"
    },
    "language_info": {
      "name": "python"
    }
  },
  "nbformat": 4,
  "nbformat_minor": 0
}
